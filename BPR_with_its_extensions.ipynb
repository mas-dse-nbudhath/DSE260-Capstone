{
 "cells": [
  {
   "cell_type": "markdown",
   "metadata": {},
   "source": [
    "## importing required libraries"
   ]
  },
  {
   "cell_type": "code",
   "execution_count": 32,
   "metadata": {
    "collapsed": true
   },
   "outputs": [],
   "source": [
    "import pandas as pd\n",
    "import warnings\n",
    "warnings.filterwarnings('ignore')\n",
    "from collections import defaultdict\n",
    "import struct\n",
    "import numpy\n",
    "import random\n",
    "import tensorflow as tf\n",
    "import os\n",
    "import pickle as pickle\n",
    "import matplotlib.pyplot as plt\n",
    "import sys\n",
    "%matplotlib inline"
   ]
  },
  {
   "cell_type": "code",
   "execution_count": 4,
   "metadata": {
    "collapsed": true,
    "scrolled": false
   },
   "outputs": [],
   "source": [
    "#this function helps to visualize the dict\n",
    "from itertools import islice\n",
    "\n",
    "def take(n, iterable):\n",
    "    \"Return first n items of the iterable as a list\"\n",
    "    return list(islice(iterable, n))\n",
    "# take(1, prod_desc.values())\n"
   ]
  },
  {
   "cell_type": "markdown",
   "metadata": {},
   "source": [
    "## procedure to load the data from the json format to rating matrix"
   ]
  },
  {
   "cell_type": "code",
   "execution_count": 11,
   "metadata": {
    "collapsed": true
   },
   "outputs": [],
   "source": [
    "# load data after creating features\n",
    "def load_data_hybrid(data_path, min_items=2, min_users=2, sampling= True, sample_size = 0.5):\n",
    "    user_ratings = defaultdict(set)\n",
    "    item_ratings = defaultdict(set)\n",
    "    max_u_id = -1\n",
    "    max_i_id = -1\n",
    "    user_count = 0\n",
    "    item_count = 0\n",
    "    reviews = 0\n",
    "    users = {}  # aid to id LUT\n",
    "    items = {}  # asid to id LUT\n",
    "    brands = {}\n",
    "    prices = {}\n",
    "    prod_desc = {}\n",
    "    prod_cat= {}\n",
    "    price_feature={}\n",
    "    random.seed(0)\n",
    "    with open(data_path, 'r') as f:\n",
    "        bad_actor = 0\n",
    "        for line in f.readlines()[1:]:\n",
    "            if (sampling and random.random()>sample_size):\n",
    "                continue\n",
    "            reviews += 1\n",
    "            num_fields = len(line.split(\",\"))\n",
    "            \n",
    "\n",
    "            if (num_fields> 8):\n",
    "                bad_actor = bad_actor + 1\n",
    "                continue\n",
    "            \n",
    "            else:\n",
    "                auid, asid, _, brand, price, product_desc, product_cat, price_feat = line.split(\",\")\n",
    "\n",
    "            u, i = None, None\n",
    "\n",
    "            if auid in users:\n",
    "                u = users[auid]\n",
    "            else:\n",
    "                user_count += 1  # new user so increment\n",
    "                users[auid] = user_count\n",
    "                u = user_count\n",
    "            \n",
    "            if asid in items:\n",
    "                i = items[asid]\n",
    "            else:\n",
    "                item_count += 1  # new i so increment\n",
    "                items[asid] = item_count\n",
    "                i = item_count\n",
    "                brands[i] = brand\n",
    "                if (price=='' or price=='\\r\\n' or price=='\\n'):\n",
    "                    prices[i] = 0\n",
    "                else:\n",
    "                    prices[i] = float(price.rstrip())\n",
    "                    \n",
    "                prod_desc[i] = [int(el) for el in list(product_desc)[:-1][1:]]\n",
    "                if (len(prod_desc[i])==0):\n",
    "                    prod_desc[i] = list(np.zeros(4524))\n",
    "                \n",
    "                prod_cat[i] = [int(el) for el in list(product_cat)[:-2][1:]]\n",
    "                \n",
    "                price_feature[i] = [int(el) for el in list(price_feat)[:-2][1:]]\n",
    "            \n",
    "            user_ratings[u].add(i)\n",
    "            item_ratings[i].add(u)\n",
    "            max_u_id = max(u, max_u_id)\n",
    "            max_i_id = max(i, max_i_id)\n",
    "            \n",
    "    print (\"max_u_id: \", max_u_id)\n",
    "    print (\"max_i_id: \", max_i_id)\n",
    "    print (\"reviews : \", reviews)\n",
    "\n",
    "\n",
    "    # filter out users w/ less than X reviews\n",
    "    num_u_id = 0\n",
    "    num_i_id = 0\n",
    "    num_reviews = 0\n",
    "    user_ratings_filtered = defaultdict(set)\n",
    "    for u, ids in user_ratings.items():\n",
    "        if len(ids) > min_items:\n",
    "            user_ratings_filtered[u] = ids\n",
    "            num_u_id += 1\n",
    "            num_reviews += len(ids)\n",
    "            \n",
    "    item_ratings_filtered = defaultdict(set)\n",
    "    for ids, u in item_ratings.items():\n",
    "        if len(u) > min_users:\n",
    "            # keep\n",
    "            item_ratings_filtered[ids] = u\n",
    "            num_i_id += 1\n",
    "\n",
    "\n",
    "    print (\"u_id: \", num_u_id)\n",
    "    print (\"i_id: \", num_i_id)\n",
    "    print (\"reviews : \", num_reviews)\n",
    "    return max_u_id, max_i_id, users, items, user_ratings_filtered,\\\n",
    "                item_ratings_filtered, brands, prices, prod_desc, prod_cat,price_feature"
   ]
  },
  {
   "cell_type": "code",
   "execution_count": 15,
   "metadata": {},
   "outputs": [
    {
     "data": {
      "text/plain": [
       "[(1, [0, 0, 0, 0, 1, 0])]"
      ]
     },
     "execution_count": 15,
     "metadata": {},
     "output_type": "execute_result"
    }
   ],
   "source": [
    "#example to see how ur items are being read\n",
    "take(1, price_feature.items())"
   ]
  },
  {
   "cell_type": "markdown",
   "metadata": {},
   "source": [
    "## LOAD DATA and verify it works properly before passing to session_run function later"
   ]
  },
  {
   "cell_type": "code",
   "execution_count": 12,
   "metadata": {
    "scrolled": true
   },
   "outputs": [
    {
     "name": "stdout",
     "output_type": "stream",
     "text": [
      "max_u_id:  34491\n",
      "max_i_id:  14764\n",
      "reviews :  144992\n",
      "u_id:  12305\n",
      "i_id:  14764\n",
      "reviews :  84164\n"
     ]
    }
   ],
   "source": [
    "data_path = os.path.join('', 'out_reviews_womens_cpp_product_cat_price.csv')\n",
    "user_count, item_count, users, items, user_ratings, item_ratings, brands, prices, prod_desc, prod_cat,price_feature  = load_data_hybrid(data_path, min_items=4, min_users=0, sampling= True, sample_size = 0.8)"
   ]
  },
  {
   "cell_type": "markdown",
   "metadata": {},
   "source": [
    "## Procedure to load image features of the products"
   ]
  },
  {
   "cell_type": "code",
   "execution_count": 16,
   "metadata": {
    "collapsed": true
   },
   "outputs": [],
   "source": [
    "#load image features for the given asin collection into dictionary\n",
    "def load_image_features(path, items):\n",
    "    count=0\n",
    "    image_features = {}\n",
    "    f = open(path, 'rb')\n",
    "    while True:\n",
    "        asin = f.read(10)\n",
    "        if asin == '': break\n",
    "        features_bytes = f.read(16384) # 4 * 4096 = 16KB, fast read, don't unpack\n",
    "  \n",
    "        if asin in items: #only unpack 4096 bytes if w need it -- big speed up\n",
    "            features = (np.fromstring(features_bytes, dtype=np.float32)/58.388599)\n",
    "            iid=items[asin]\n",
    "            if len(features)==0:\n",
    "                image_features[iid] = np.zeros(4096)\n",
    "            else:\n",
    "                image_features[iid] = features\n",
    "    \n",
    "    return image_features"
   ]
  },
  {
   "cell_type": "markdown",
   "metadata": {},
   "source": [
    "## Procedure to uniformly sample the (u,i,j) triplet from the raw data for the train set"
   ]
  },
  {
   "cell_type": "code",
   "execution_count": 17,
   "metadata": {
    "collapsed": true
   },
   "outputs": [],
   "source": [
    "def uniform_sample_batch(train_ratings, test_ratings, item_count, advanced_features):\n",
    "    neg_items = 2\n",
    "    for u in train_ratings.keys():\n",
    "        t = []\n",
    "        iv = []\n",
    "        jv = []\n",
    "        for i in train_ratings[u]:\n",
    "            if (u in test_ratings.keys()):\n",
    "                if (i != test_ratings[u]):  # make sure it's not in the test set\n",
    "                    for k in range(1,neg_items):\n",
    "                        j = random.randint(1, item_count)\n",
    "                        while j in train_ratings[u]:\n",
    "                            j = random.randint(1, item_count)\n",
    "                        # sometimes there will not be an image for given product\n",
    "                        try:\n",
    "                            advanced_features[i]\n",
    "                            advanced_features[j]\n",
    "                        except KeyError:\n",
    "                            continue\n",
    "                        iv.append(advanced_features[i])\n",
    "                        jv.append(advanced_features[j])\n",
    "                        t.append([u, i, j])\n",
    "            else:\n",
    "                for k in range(1,neg_items):\n",
    "                    j = random.randint(1, item_count)\n",
    "                    while j in train_ratings[u]:\n",
    "                        j = random.randint(1, item_count)\n",
    "                    # sometimes there will not be an image for given product\n",
    "                    try:\n",
    "                        advanced_features[i]\n",
    "                        advanced_features[j]\n",
    "                    except KeyError:\n",
    "                        continue\n",
    "                    iv.append(advanced_features[i])\n",
    "                    jv.append(advanced_features[j])\n",
    "                    t.append([u, i, j])\n",
    "\n",
    "        # block if queue is full\n",
    "        if len(iv)>1:\n",
    "            yield numpy.asarray(t), numpy.vstack(tuple(iv)), numpy.vstack(tuple(jv))\n",
    "        else:\n",
    "            continue"
   ]
  },
  {
   "cell_type": "markdown",
   "metadata": {},
   "source": [
    "## Procedure to uniformly sample the (u,i,j) triplet from the raw data for the test set"
   ]
  },
  {
   "cell_type": "code",
   "execution_count": 28,
   "metadata": {
    "collapsed": true
   },
   "outputs": [],
   "source": [
    "def test_batch_generator_by_user(train_ratings, test_ratings, item_ratings, item_count, advanced_features, cold_start = False, cold_start_thresh = 5):\n",
    "    # using leave one cv\n",
    "    for u in random.sample(test_ratings.keys(), 4000):\n",
    "    #for u in test_ratings.keys():\n",
    "        i = test_ratings[u]\n",
    "        if (cold_start and len(item_ratings[i]) > cold_start_thresh-1):\n",
    "            continue\n",
    "        t = []\n",
    "        ilist = []\n",
    "        jlist = []\n",
    "        count = 0\n",
    "        for j in random.sample(range(item_count), 100):\n",
    "            # find item not in test[u] and train[u]\n",
    "            if j != test_ratings[u] and not (j in train_ratings[u]):\n",
    "                try:\n",
    "                    advanced_features[i]\n",
    "                    advanced_features[j]\n",
    "                except KeyError:\n",
    "                    continue\n",
    "\n",
    "                count += 1\n",
    "                t.append([u, i, j])\n",
    "                ilist.append(advanced_features[i])\n",
    "                jlist.append(advanced_features[j])\n",
    "\n",
    "        # print numpy.asarray(t).shape\n",
    "        # print numpy.vstack(tuple(ilist)).shape\n",
    "        # print numpy.vstack(tuple(jlist)).shape\n",
    "        if (len(ilist) == 0):\n",
    "            #print \"could not find neg item for user, count: \", count, u\n",
    "            continue\n",
    "        yield numpy.asarray(t), numpy.vstack(tuple(ilist)), numpy.vstack(tuple(jlist))"
   ]
  },
  {
   "cell_type": "markdown",
   "metadata": {},
   "source": [
    "## Procedure to generate the (u,i) pair for the test data"
   ]
  },
  {
   "cell_type": "code",
   "execution_count": 19,
   "metadata": {
    "collapsed": true
   },
   "outputs": [],
   "source": [
    "def generate_test(user_ratings):\n",
    "    '''\n",
    "    for each user, random select one rating into test set\n",
    "    '''\n",
    "    user_test = dict()\n",
    "    for u, i_list in user_ratings.items():\n",
    "        user_test[u] = random.sample(user_ratings[u], 1)[0]\n",
    "    return user_test"
   ]
  },
  {
   "cell_type": "code",
   "execution_count": null,
   "metadata": {
    "collapsed": true
   },
   "outputs": [],
   "source": []
  },
  {
   "cell_type": "markdown",
   "metadata": {},
   "source": [
    "## Bayesian Personalized Ranking (BPR) Model and it's extensions (VBPR, NVBPR, Hybrid)"
   ]
  },
  {
   "cell_type": "code",
   "execution_count": 20,
   "metadata": {
    "collapsed": true
   },
   "outputs": [],
   "source": [
    "def abpr(user_count, item_count, advanced_features, bpr_extension, hidden_dim=10, hidden_img_dim=10,\n",
    "         l2_regulization=0.1,\n",
    "         bias_regulization=0.01,\n",
    "         embed_regulization = 0,\n",
    "         image_regulization =0.1,\n",
    "         visual_bias_regulization = 0.01):\n",
    "    \"\"\"\n",
    "    user_count: total number of users\n",
    "    item_count: total number of items\n",
    "    hidden_dim: hidden feature size of MF\n",
    "    hidden_img_dim: hidden visual/non-visual feature size of MF\n",
    "    \"\"\"\n",
    "  \n",
    "    advanced_feat_dim = len(advanced_features[1])\n",
    "    iv = tf.placeholder(tf.float32, [None, advanced_feat_dim])\n",
    "    jv = tf.placeholder(tf.float32, [None, advanced_feat_dim])\n",
    "    \n",
    "    u = tf.placeholder(tf.int32, [None])\n",
    "    i = tf.placeholder(tf.int32, [None])\n",
    "    j = tf.placeholder(tf.int32, [None])\n",
    "\n",
    "\n",
    "  \n",
    "\n",
    "    \n",
    "    # model parameters -- LEARN THESE\n",
    "    # latent factors\n",
    "    user_emb_w = tf.get_variable(\"user_emb_w\", [user_count + 1, hidden_dim],\n",
    "                                 initializer=tf.random_normal_initializer(0, 0.1))\n",
    "    item_emb_w = tf.get_variable(\"item_emb_w\", [item_count + 1, hidden_dim],\n",
    "                                 initializer=tf.random_normal_initializer(0, 0.1))\n",
    "    # biases\n",
    "    item_b = tf.get_variable(\"item_b\", [item_count + 1, 1], initializer=tf.constant_initializer(0.0))\n",
    "\n",
    "    # pull out the respective latent factor vectors for a given user u and items i & j\n",
    "    u_emb = tf.nn.embedding_lookup(user_emb_w, u)\n",
    "    i_emb = tf.nn.embedding_lookup(item_emb_w, i)\n",
    "    j_emb = tf.nn.embedding_lookup(item_emb_w, j)\n",
    "    \n",
    "    # get the respective biases for items i & j\n",
    "    i_b = tf.nn.embedding_lookup(item_b, i)\n",
    "    j_b = tf.nn.embedding_lookup(item_b, j)\n",
    "\n",
    "\n",
    "    # MF predict: u_i > u_j\n",
    "   \n",
    "    \n",
    "    if bpr_extension:\n",
    "        # UxD visual factors for users\n",
    "        user_img_w = tf.get_variable(\"user_img_w\", [user_count + 1, hidden_img_dim],\n",
    "                                 initializer=tf.random_normal_initializer(0, 0.1))\n",
    "        # this is E, the embedding matrix\n",
    "        img_emb_w = tf.get_variable(\"img_emb_w\", [hidden_img_dim, advanced_feat_dim],\n",
    "                                initializer=tf.random_normal_initializer(0, 0.1))\n",
    "        \n",
    "        theta_i = tf.matmul(iv, img_emb_w, transpose_b=True)  # (f_i * E), eq. 3\n",
    "        theta_j = tf.matmul(jv, img_emb_w, transpose_b=True)  # (f_j * E), eq. 3\n",
    "\n",
    "        visual_bias = tf.get_variable(\"visual_bias\", [1, advanced_feat_dim], initializer=tf.random_normal_initializer(0, 0.1))\n",
    "        # pull out the visual factor, 1 X D for user u\n",
    "        \n",
    "        u_img = tf.nn.embedding_lookup(user_img_w, u)\n",
    "        \n",
    "        xui = i_b + tf.reduce_sum(tf.multiply(u_emb, i_emb), 1, keep_dims=True) + tf.reduce_sum(tf.multiply(u_img, theta_i), 1, keep_dims=True) \\\n",
    "                                                                            + tf.reduce_sum(tf.multiply(visual_bias, iv), 1, keep_dims=True) \n",
    "        xuj = j_b + tf.reduce_sum(tf.multiply(u_emb, j_emb), 1, keep_dims=True) + tf.reduce_sum(tf.multiply(u_img, theta_j), 1, keep_dims=True) \\\n",
    "                                                                            + tf.reduce_sum(tf.multiply(visual_bias, jv), 1, keep_dims=True) \n",
    "        l2_norm = tf.add_n([\n",
    "            l2_regulization * tf.reduce_sum(tf.multiply(u_emb, u_emb)),\n",
    "            image_regulization * tf.reduce_sum(tf.multiply(u_img, u_img)),\n",
    "            l2_regulization * tf.reduce_sum(tf.multiply(i_emb, i_emb)),\n",
    "            l2_regulization * tf.reduce_sum(tf.multiply(j_emb, j_emb)),\n",
    "            embed_regulization * tf.reduce_sum(tf.multiply(img_emb_w, img_emb_w)),\n",
    "            bias_regulization * tf.reduce_sum(tf.multiply(i_b, i_b)),\n",
    "            bias_regulization * tf.reduce_sum(tf.multiply(j_b, j_b)),\n",
    "            visual_bias_regulization * tf.reduce_sum(tf.multiply(visual_bias, visual_bias))\n",
    "        ])\n",
    "        \n",
    "    \n",
    "    \n",
    "    else:\n",
    "        xui = i_b + tf.reduce_sum(tf.multiply(u_emb, i_emb), 1, keep_dims=True)\n",
    "        xuj = j_b + tf.reduce_sum(tf.multiply(u_emb, j_emb), 1, keep_dims=True) \n",
    "        l2_norm = tf.add_n([\n",
    "            l2_regulization * tf.reduce_sum(tf.multiply(u_emb, u_emb)),\n",
    "            l2_regulization * tf.reduce_sum(tf.multiply(i_emb, i_emb)),\n",
    "            l2_regulization * tf.reduce_sum(tf.multiply(j_emb, j_emb)),\n",
    "            bias_regulization * tf.reduce_sum(tf.multiply(i_b, i_b)),\n",
    "            bias_regulization * tf.reduce_sum(tf.multiply(j_b, j_b))\n",
    "        ])\n",
    "    \n",
    "    xuij = xui - xuj\n",
    "\n",
    "    auc = tf.reduce_mean(tf.to_float(xuij > 0))\n",
    "    \n",
    "    loss = l2_norm - tf.reduce_mean(tf.log(tf.sigmoid(xuij)))\n",
    "    \n",
    "    train_op = tf.train.AdamOptimizer().minimize(loss)\n",
    "    \n",
    "    \n",
    "    return u, i, j, iv, jv, loss, auc, train_op"
   ]
  },
  {
   "cell_type": "markdown",
   "metadata": {},
   "source": [
    "## Procedure to run the end-to-end model (from loading data to training the model and to test the model)"
   ]
  },
  {
   "cell_type": "code",
   "execution_count": 33,
   "metadata": {
    "collapsed": true
   },
   "outputs": [],
   "source": [
    "def session_run(num_iter, bpr_extension, advanced_features):\n",
    "    ### Loading and parsing the review matrix for Women 5-core dataset\n",
    "    auc_train = []\n",
    "    auc_test = []\n",
    "    auc_test_cs = []\n",
    "    data_path = os.path.join('', 'out_reviews_womens_cpp_product_cat_price.csv')\n",
    "    user_count, item_count, users, items, user_ratings, item_ratings, brands, _, prod_desc, prod_cat,price_feature = load_data_hybrid(data_path, min_items=4, min_users=0, sampling= True, sample_size = 0.8)\n",
    "    user_ratings_test = generate_test(user_ratings)\n",
    "    with tf.Graph().as_default(), tf.Session() as session:\n",
    "        with tf.variable_scope('abpr'):\n",
    "            u, i, j, iv, jv, loss, auc, train_op = abpr(user_count, item_count, advanced_features, bpr_extension=bpr_extension)\n",
    "\n",
    "        session.run(tf.global_variables_initializer())\n",
    "        \n",
    "\n",
    "        for epoch in range(1, num_iter+1):\n",
    "            print (\"epoch \", epoch)\n",
    "            _loss_train = 0.0\n",
    "            user_count = 0\n",
    "            auc_train_values = []\n",
    "            for d, _iv, _jv in uniform_sample_batch(user_ratings, user_ratings_test, item_count, advanced_features):\n",
    "                user_count += 1\n",
    "                _loss, _auc, _ = session.run([loss, auc, train_op], feed_dict={u:d[:,0], i:d[:,1], j:d[:,2], iv:_iv, jv:_jv})\n",
    "                _loss_train += _loss\n",
    "                auc_train_values.append(_auc)\n",
    "            print (\"train_loss:\", _loss_train/user_count, \"train auc: \", numpy.mean(auc_train_values))\n",
    "            auc_train.append(numpy.mean(auc_train_values))\n",
    "\n",
    "\n",
    "            auc_values = []\n",
    "            _loss_test = 0.0\n",
    "            user_count = 0\n",
    "            for d, _iv, _jv in test_batch_generator_by_user(user_ratings, user_ratings_test, item_ratings, item_count, advanced_features, cold_start = False):\n",
    "                user_count += 1\n",
    "                _loss, _auc = session.run([loss, auc], feed_dict={u: d[:, 0], i: d[:, 1], j: d[:, 2], iv: _iv, jv: _jv})\n",
    "                _loss_test += _loss\n",
    "                auc_values.append(_auc)\n",
    "            print (\"test_loss: \", _loss_test / user_count, \"test auc: \", numpy.mean(auc_values))\n",
    "            auc_test.append(numpy.mean(auc_values))\n",
    "\n",
    "            auc_values_cs = []\n",
    "            _loss_test_cs = 0.0\n",
    "            user_count = 0\n",
    "            for d, _iv, _jv in test_batch_generator_by_user(user_ratings, user_ratings_test, item_ratings, item_count, advanced_features, cold_start = True, cold_start_thresh = 10):\n",
    "                user_count += 1\n",
    "                _loss, _auc = session.run([loss, auc], feed_dict={u: d[:, 0], i: d[:, 1], j: d[:, 2], iv: _iv, jv: _jv})\n",
    "                _loss_test_cs += _loss\n",
    "                auc_values_cs.append(_auc)\n",
    "            print (\"cold start test_loss: \", _loss_test_cs / user_count, \"cold start auc: \", numpy.mean(auc_values_cs))\n",
    "            auc_test_cs.append(numpy.mean(auc_values_cs))\n",
    "        return auc_train, auc_test, auc_test_cs"
   ]
  },
  {
   "cell_type": "markdown",
   "metadata": {},
   "source": [
    "## Loading the image related feature"
   ]
  },
  {
   "cell_type": "code",
   "execution_count": null,
   "metadata": {
    "collapsed": true
   },
   "outputs": [],
   "source": [
    "# Uncomment the lines below to LOAD IMAGE features. It will take some time.\n",
    "# images_path = \"image_features_Women.b\"\n",
    "# f = load_image_features(images_path, items)"
   ]
  },
  {
   "cell_type": "markdown",
   "metadata": {},
   "source": [
    "## Running the base VBPR model with image features ONLY but no advanced features"
   ]
  },
  {
   "cell_type": "code",
   "execution_count": null,
   "metadata": {
    "collapsed": true
   },
   "outputs": [],
   "source": [
    "#Uncomment the line below once you have already loaded the image images in f\n",
    "#vbpr_auc_train, vbpr_auc_test, vbpr_auc_test_cold_start = session_run(5, True, f)"
   ]
  },
  {
   "cell_type": "markdown",
   "metadata": {},
   "source": [
    "## Running BASELINE BPR with no advanced features at all"
   ]
  },
  {
   "cell_type": "code",
   "execution_count": 342,
   "metadata": {
    "scrolled": false
   },
   "outputs": [
    {
     "name": "stdout",
     "output_type": "stream",
     "text": [
      "max_u_id:  34491\n",
      "max_i_id:  14764\n",
      "reviews :  144992\n",
      "u_id:  12305\n",
      "i_id:  14764\n",
      "reviews :  84164\n",
      "epoch  1\n",
      "train_loss: 0.830495092204 train auc:  0.622237\n",
      "test_loss:  2.12884474048 test auc:  0.654812\n",
      "cold start test_loss:  2.17079120234 cold start auc:  0.399922\n",
      "epoch  2\n",
      "train_loss: 0.718062192933 train auc:  0.689784\n",
      "test_loss:  1.57902501328 test auc:  0.648497\n",
      "cold start test_loss:  1.59874229559 cold start auc:  0.374105\n",
      "epoch  3\n",
      "train_loss: 0.665078992039 train auc:  0.70954\n",
      "test_loss:  1.34379753539 test auc:  0.64774\n",
      "cold start test_loss:  1.33150363743 cold start auc:  0.373923\n",
      "epoch  4\n",
      "train_loss: 0.634860334392 train auc:  0.714478\n",
      "test_loss:  1.25928304617 test auc:  0.6459\n",
      "cold start test_loss:  1.23651254654 cold start auc:  0.37466\n",
      "epoch  5\n",
      "train_loss: 0.616732381791 train auc:  0.722573\n",
      "test_loss:  1.25971108092 test auc:  0.648819\n",
      "cold start test_loss:  1.2289960426 cold start auc:  0.372405\n",
      "epoch  6\n",
      "train_loss: 0.60716787202 train auc:  0.721306\n",
      "test_loss:  1.30613588554 test auc:  0.65653\n",
      "cold start test_loss:  1.29372610635 cold start auc:  0.361079\n",
      "epoch  7\n",
      "train_loss: 0.603158666486 train auc:  0.72425\n",
      "test_loss:  1.36674065821 test auc:  0.654596\n",
      "cold start test_loss:  1.36795663902 cold start auc:  0.35675\n",
      "epoch  8\n",
      "train_loss: 0.599089132869 train auc:  0.727405\n",
      "test_loss:  1.45120891927 test auc:  0.657413\n",
      "cold start test_loss:  1.44093745983 cold start auc:  0.365091\n",
      "epoch  9\n",
      "train_loss: 0.598852047508 train auc:  0.727954\n",
      "test_loss:  1.50269107132 test auc:  0.659194\n",
      "cold start test_loss:  1.52962515245 cold start auc:  0.360883\n",
      "epoch  10\n",
      "train_loss: 0.599574083141 train auc:  0.729106\n",
      "test_loss:  1.56120495842 test auc:  0.655793\n",
      "cold start test_loss:  1.62616596079 cold start auc:  0.362126\n"
     ]
    }
   ],
   "source": [
    "#Note: bpr_extension is True only when you are passing image features, else always false\n",
    "\n",
    "dummy_adv_features= {n: [0] for n in range(1,item_count+1)} # creating dummy array with zero for NO advanced features\n",
    "bpr_auc_train, bpr_auc_test, bpr_auc_test_cold_start = session_run(10, True, dummy_adv_features)"
   ]
  },
  {
   "cell_type": "markdown",
   "metadata": {},
   "source": [
    "## NEW PRICE FEATURE CREATED"
   ]
  },
  {
   "cell_type": "code",
   "execution_count": 34,
   "metadata": {},
   "outputs": [
    {
     "name": "stdout",
     "output_type": "stream",
     "text": [
      "max_u_id:  34491\n",
      "max_i_id:  14764\n",
      "reviews :  144992\n",
      "u_id:  12305\n",
      "i_id:  14764\n",
      "reviews :  84164\n",
      "epoch  1\n",
      "train_loss: 0.825061865669 train auc:  0.610299\n",
      "test_loss:  2.14893983175 test auc:  0.573874\n",
      "cold start test_loss:  2.21948544847 cold start auc:  0.460475\n",
      "epoch  2\n",
      "train_loss: 0.714823526301 train auc:  0.678288\n",
      "test_loss:  1.66714386408 test auc:  0.608788\n",
      "cold start test_loss:  1.69019085299 cold start auc:  0.425808\n",
      "epoch  3\n",
      "train_loss: 0.652171691438 train auc:  0.720035\n",
      "test_loss:  1.55819371442 test auc:  0.643691\n",
      "cold start test_loss:  1.54043298866 cold start auc:  0.446561\n",
      "epoch  4\n",
      "train_loss: 0.59074763787 train auc:  0.756786\n",
      "test_loss:  1.61542718525 test auc:  0.656394\n",
      "cold start test_loss:  1.60039201252 cold start auc:  0.477419\n",
      "epoch  5\n",
      "train_loss: 0.543155736588 train auc:  0.781254\n",
      "test_loss:  1.72957871015 test auc:  0.657689\n",
      "cold start test_loss:  1.68808029693 cold start auc:  0.504638\n",
      "epoch  6\n",
      "train_loss: 0.515406652894 train auc:  0.794844\n",
      "test_loss:  1.83414413646 test auc:  0.662744\n",
      "cold start test_loss:  1.83638485259 cold start auc:  0.510944\n",
      "epoch  7\n",
      "train_loss: 0.500713048598 train auc:  0.803651\n",
      "test_loss:  1.91813675402 test auc:  0.66365\n",
      "cold start test_loss:  1.9661038837 cold start auc:  0.505192\n",
      "epoch  8\n",
      "train_loss: 0.487021228745 train auc:  0.812789\n",
      "test_loss:  2.0198148599 test auc:  0.66187\n",
      "cold start test_loss:  2.04326837922 cold start auc:  0.512942\n",
      "epoch  9\n",
      "train_loss: 0.47939158014 train auc:  0.817295\n",
      "test_loss:  2.07987731469 test auc:  0.65937\n",
      "cold start test_loss:  2.09358897167 cold start auc:  0.522484\n",
      "epoch  10\n",
      "train_loss: 0.475650178199 train auc:  0.818489\n",
      "test_loss:  2.10663544762 test auc:  0.657076\n",
      "cold start test_loss:  2.18825194659 cold start auc:  0.516623\n"
     ]
    }
   ],
   "source": [
    "npbpr_auc_train, npbpr_auc_test, npbpr_auc_test_cold_start = session_run(10, True, price_feature)"
   ]
  },
  {
   "cell_type": "markdown",
   "metadata": {},
   "source": [
    "## Generating the price related feature and running the advanced BPR model with price features only"
   ]
  },
  {
   "cell_type": "code",
   "execution_count": 344,
   "metadata": {
    "collapsed": true,
    "scrolled": true
   },
   "outputs": [],
   "source": [
    "#user_count, item_count, users, items, user_ratings, item_ratings, brands, prices, prod_desc = load_data_hybrid(data_path, min_items=4, min_users=0, sampling= True, sample_size = 0.8)\n",
    "prices_features= {}\n",
    "prices_all = list(set(prices.values()))\n",
    "price_quant_level = 10\n",
    "price_max = float(max(prices.values()))\n",
    "for key, value in prices.items():\n",
    "    prices_vec = numpy.zeros(price_quant_level+1)\n",
    "    idx = int(numpy.ceil(float(value)/(price_max/price_quant_level)))\n",
    "    prices_vec[idx]=1\n",
    "    prices_features[key] = prices_vec"
   ]
  },
  {
   "cell_type": "code",
   "execution_count": 345,
   "metadata": {},
   "outputs": [
    {
     "name": "stdout",
     "output_type": "stream",
     "text": [
      "max_u_id:  34491\n",
      "max_i_id:  14764\n",
      "reviews :  144992\n",
      "u_id:  12305\n",
      "i_id:  14764\n",
      "reviews :  84164\n",
      "epoch  1\n",
      "train_loss: 0.830046996224 train auc:  0.611581\n",
      "test_loss:  2.13747107898 test auc:  0.64148\n",
      "cold start test_loss:  2.19058188581 cold start auc:  0.421771\n",
      "epoch  2\n",
      "train_loss: 0.716808176116 train auc:  0.681906\n",
      "test_loss:  1.63339434841 test auc:  0.645305\n",
      "cold start test_loss:  1.63657856769 cold start auc:  0.397937\n",
      "epoch  3\n",
      "train_loss: 0.658279769947 train auc:  0.714073\n",
      "test_loss:  1.5092749957 test auc:  0.640888\n",
      "cold start test_loss:  1.50431845418 cold start auc:  0.416374\n",
      "epoch  4\n",
      "train_loss: 0.61734355246 train auc:  0.728764\n",
      "test_loss:  1.55204826339 test auc:  0.632821\n",
      "cold start test_loss:  1.52232751077 cold start auc:  0.425732\n",
      "epoch  5\n",
      "train_loss: 0.597164308513 train auc:  0.739059\n",
      "test_loss:  1.58859637979 test auc:  0.637595\n",
      "cold start test_loss:  1.58318181618 cold start auc:  0.416297\n",
      "epoch  6\n",
      "train_loss: 0.584418645399 train auc:  0.743965\n",
      "test_loss:  1.65322175255 test auc:  0.644651\n",
      "cold start test_loss:  1.635016875 cold start auc:  0.409766\n",
      "epoch  7\n",
      "train_loss: 0.58014173505 train auc:  0.748134\n",
      "test_loss:  1.68623320177 test auc:  0.646194\n",
      "cold start test_loss:  1.71635340073 cold start auc:  0.407892\n",
      "epoch  8\n",
      "train_loss: 0.573841090715 train auc:  0.751596\n",
      "test_loss:  1.77581467523 test auc:  0.643787\n",
      "cold start test_loss:  1.76731858825 cold start auc:  0.415185\n",
      "epoch  9\n",
      "train_loss: 0.571789917334 train auc:  0.75444\n",
      "test_loss:  1.80455968501 test auc:  0.647919\n",
      "cold start test_loss:  1.86586708709 cold start auc:  0.400563\n",
      "epoch  10\n",
      "train_loss: 0.572049270513 train auc:  0.757519\n",
      "test_loss:  1.83342394336 test auc:  0.647118\n",
      "cold start test_loss:  1.91014662193 cold start auc:  0.4121\n"
     ]
    }
   ],
   "source": [
    "pbpr_auc_train, pbpr_auc_test, pbpr_auc_test_cold_start = session_run(10, True, prices_features)"
   ]
  },
  {
   "cell_type": "markdown",
   "metadata": {},
   "source": [
    "## Generating the brand related feature and running the advanced BPR model with brand features only"
   ]
  },
  {
   "cell_type": "code",
   "execution_count": 346,
   "metadata": {
    "scrolled": false
   },
   "outputs": [
    {
     "name": "stdout",
     "output_type": "stream",
     "text": [
      "max_u_id:  34491\n",
      "max_i_id:  14764\n",
      "reviews :  144992\n",
      "u_id:  12305\n",
      "i_id:  14764\n",
      "reviews :  84164\n",
      "epoch  1\n",
      "train_loss: 0.826916610705 train auc:  0.631551\n",
      "test_loss:  2.1576431134 test auc:  0.618061\n",
      "cold start test_loss:  2.21878106676 cold start auc:  0.44343\n",
      "epoch  2\n",
      "train_loss: 0.713241369346 train auc:  0.706354\n",
      "test_loss:  1.68672971997 test auc:  0.633653\n",
      "cold start test_loss:  1.70322656154 cold start auc:  0.413656\n",
      "epoch  3\n",
      "train_loss: 0.653979188657 train auc:  0.739304\n",
      "test_loss:  1.54739060669 test auc:  0.652522\n",
      "cold start test_loss:  1.55593563238 cold start auc:  0.420277\n",
      "epoch  4\n",
      "train_loss: 0.607445154724 train auc:  0.768876\n",
      "test_loss:  1.59463945107 test auc:  0.668006\n",
      "cold start test_loss:  1.57836938645 cold start auc:  0.443628\n",
      "epoch  5\n",
      "train_loss: 0.559750693353 train auc:  0.801141\n",
      "test_loss:  1.73619137844 test auc:  0.679768\n",
      "cold start test_loss:  1.73741982997 cold start auc:  0.466054\n",
      "epoch  6\n",
      "train_loss: 0.520973963079 train auc:  0.820673\n",
      "test_loss:  1.90330083576 test auc:  0.679893\n",
      "cold start test_loss:  1.93656339842 cold start auc:  0.472545\n",
      "epoch  7\n",
      "train_loss: 0.49185437496 train auc:  0.840177\n",
      "test_loss:  2.02890029019 test auc:  0.693464\n",
      "cold start test_loss:  2.10283713682 cold start auc:  0.488219\n",
      "epoch  8\n",
      "train_loss: 0.467441014555 train auc:  0.852558\n",
      "test_loss:  2.17341445875 test auc:  0.691051\n",
      "cold start test_loss:  2.22289820422 cold start auc:  0.520215\n",
      "epoch  9\n",
      "train_loss: 0.451492661584 train auc:  0.861195\n",
      "test_loss:  2.25797658202 test auc:  0.691742\n",
      "cold start test_loss:  2.31747478607 cold start auc:  0.526213\n",
      "epoch  10\n",
      "train_loss: 0.433990250514 train auc:  0.869667\n",
      "test_loss:  2.31358561277 test auc:  0.695508\n",
      "cold start test_loss:  2.42460593587 cold start auc:  0.531153\n"
     ]
    }
   ],
   "source": [
    "brands_features = {}\n",
    "brands_all = list(set(brands.values()))\n",
    "for key, value in brands.items():\n",
    "    brands_vec = numpy.zeros(len(brands_all))\n",
    "    brands_vec[brands_all.index(value)] = 1\n",
    "    brands_features[key] = brands_vec\n",
    "bbpr_auc_train, bbpr_auc_test, bbpr_auc_test_cold_start = session_run(10, True, brands_features)"
   ]
  },
  {
   "cell_type": "markdown",
   "metadata": {},
   "source": [
    "## Generating Categories of product feature and running advanced BPR model with product categories only"
   ]
  },
  {
   "cell_type": "code",
   "execution_count": 347,
   "metadata": {
    "scrolled": true
   },
   "outputs": [
    {
     "name": "stdout",
     "output_type": "stream",
     "text": [
      "max_u_id:  34491\n",
      "max_i_id:  14764\n",
      "reviews :  144992\n",
      "u_id:  12305\n",
      "i_id:  14764\n",
      "reviews :  84164\n",
      "epoch  1\n",
      "train_loss: 0.810557359268 train auc:  0.630228\n",
      "test_loss:  2.29361186653 test auc:  0.551086\n",
      "cold start test_loss:  2.36694689213 cold start auc:  0.496141\n",
      "epoch  2\n",
      "train_loss: 0.698183138581 train auc:  0.693348\n",
      "test_loss:  1.89098103301 test auc:  0.582414\n",
      "cold start test_loss:  1.91176690795 cold start auc:  0.491235\n",
      "epoch  3\n",
      "train_loss: 0.612705150053 train auc:  0.751163\n",
      "test_loss:  1.79424659014 test auc:  0.649468\n",
      "cold start test_loss:  1.78917357764 cold start auc:  0.551769\n",
      "epoch  4\n",
      "train_loss: 0.526970455 train auc:  0.799827\n",
      "test_loss:  1.81883182921 test auc:  0.686855\n",
      "cold start test_loss:  1.79763009689 cold start auc:  0.597483\n",
      "epoch  5\n",
      "train_loss: 0.464454919873 train auc:  0.832258\n",
      "test_loss:  1.86277620889 test auc:  0.711504\n",
      "cold start test_loss:  1.88138595585 cold start auc:  0.613939\n",
      "epoch  6\n",
      "train_loss: 0.424384235036 train auc:  0.851336\n",
      "test_loss:  1.9195430629 test auc:  0.720696\n",
      "cold start test_loss:  1.95286578179 cold start auc:  0.628213\n",
      "epoch  7\n",
      "train_loss: 0.397344457559 train auc:  0.86514\n",
      "test_loss:  1.9474801981 test auc:  0.730569\n",
      "cold start test_loss:  2.01106165871 cold start auc:  0.644136\n",
      "epoch  8\n",
      "train_loss: 0.376508642711 train auc:  0.874758\n",
      "test_loss:  1.99906799226 test auc:  0.737582\n",
      "cold start test_loss:  2.03137670329 cold start auc:  0.654845\n",
      "epoch  9\n",
      "train_loss: 0.360912360649 train auc:  0.881341\n",
      "test_loss:  2.02682826595 test auc:  0.730899\n",
      "cold start test_loss:  2.0498648423 cold start auc:  0.668139\n",
      "epoch  10\n",
      "train_loss: 0.346481267648 train auc:  0.890128\n",
      "test_loss:  2.03287369381 test auc:  0.730747\n",
      "cold start test_loss:  2.10563666229 cold start auc:  0.667623\n"
     ]
    }
   ],
   "source": [
    "cbpr_auc_train, cbpr_auc_test, cbpr_auc_test_cold_start = session_run(10, True, prod_cat)"
   ]
  },
  {
   "cell_type": "markdown",
   "metadata": {},
   "source": [
    "## Generating the product description related feature and running the advanced BPR model with product description generated features only"
   ]
  },
  {
   "cell_type": "code",
   "execution_count": 341,
   "metadata": {
    "scrolled": false
   },
   "outputs": [
    {
     "name": "stdout",
     "output_type": "stream",
     "text": [
      "max_u_id:  34491\n",
      "max_i_id:  14764\n",
      "reviews :  144992\n",
      "u_id:  12305\n",
      "i_id:  14764\n",
      "reviews :  84164\n",
      "epoch  1\n"
     ]
    },
    {
     "ename": "ValueError",
     "evalue": "all the input array dimensions except for the concatenation axis must match exactly",
     "output_type": "error",
     "traceback": [
      "\u001b[0;31m---------------------------------------------------------------------------\u001b[0m",
      "\u001b[0;31mValueError\u001b[0m                                Traceback (most recent call last)",
      "\u001b[0;32m<ipython-input-341-41b09d05d124>\u001b[0m in \u001b[0;36m<module>\u001b[0;34m()\u001b[0m\n\u001b[0;32m----> 1\u001b[0;31m \u001b[0mpdbpr_auc_train\u001b[0m\u001b[0;34m,\u001b[0m \u001b[0mpdbpr_auc_test\u001b[0m\u001b[0;34m,\u001b[0m \u001b[0mpdbpr_auc_test_cold_start\u001b[0m \u001b[0;34m=\u001b[0m \u001b[0msession_run\u001b[0m\u001b[0;34m(\u001b[0m\u001b[0;36m5\u001b[0m\u001b[0;34m,\u001b[0m \u001b[0;32mTrue\u001b[0m\u001b[0;34m,\u001b[0m \u001b[0mprod_desc\u001b[0m\u001b[0;34m)\u001b[0m\u001b[0;34m\u001b[0m\u001b[0m\n\u001b[0m",
      "\u001b[0;32m<ipython-input-340-1b6b8cbdd374>\u001b[0m in \u001b[0;36msession_run\u001b[0;34m(num_iter, bpr_extension, advanced_features)\u001b[0m\n\u001b[1;32m     19\u001b[0m             \u001b[0muser_count\u001b[0m \u001b[0;34m=\u001b[0m \u001b[0;36m0\u001b[0m\u001b[0;34m\u001b[0m\u001b[0m\n\u001b[1;32m     20\u001b[0m             \u001b[0mauc_train_values\u001b[0m \u001b[0;34m=\u001b[0m \u001b[0;34m[\u001b[0m\u001b[0;34m]\u001b[0m\u001b[0;34m\u001b[0m\u001b[0m\n\u001b[0;32m---> 21\u001b[0;31m             \u001b[0;32mfor\u001b[0m \u001b[0md\u001b[0m\u001b[0;34m,\u001b[0m \u001b[0m_iv\u001b[0m\u001b[0;34m,\u001b[0m \u001b[0m_jv\u001b[0m \u001b[0;32min\u001b[0m \u001b[0muniform_sample_batch\u001b[0m\u001b[0;34m(\u001b[0m\u001b[0muser_ratings\u001b[0m\u001b[0;34m,\u001b[0m \u001b[0muser_ratings_test\u001b[0m\u001b[0;34m,\u001b[0m \u001b[0mitem_count\u001b[0m\u001b[0;34m,\u001b[0m \u001b[0madvanced_features\u001b[0m\u001b[0;34m)\u001b[0m\u001b[0;34m:\u001b[0m\u001b[0;34m\u001b[0m\u001b[0m\n\u001b[0m\u001b[1;32m     22\u001b[0m                 \u001b[0muser_count\u001b[0m \u001b[0;34m+=\u001b[0m \u001b[0;36m1\u001b[0m\u001b[0;34m\u001b[0m\u001b[0m\n\u001b[1;32m     23\u001b[0m                 \u001b[0m_loss\u001b[0m\u001b[0;34m,\u001b[0m \u001b[0m_auc\u001b[0m\u001b[0;34m,\u001b[0m \u001b[0m_\u001b[0m \u001b[0;34m=\u001b[0m \u001b[0msession\u001b[0m\u001b[0;34m.\u001b[0m\u001b[0mrun\u001b[0m\u001b[0;34m(\u001b[0m\u001b[0;34m[\u001b[0m\u001b[0mloss\u001b[0m\u001b[0;34m,\u001b[0m \u001b[0mauc\u001b[0m\u001b[0;34m,\u001b[0m \u001b[0mtrain_op\u001b[0m\u001b[0;34m]\u001b[0m\u001b[0;34m,\u001b[0m \u001b[0mfeed_dict\u001b[0m\u001b[0;34m=\u001b[0m\u001b[0;34m{\u001b[0m\u001b[0mu\u001b[0m\u001b[0;34m:\u001b[0m\u001b[0md\u001b[0m\u001b[0;34m[\u001b[0m\u001b[0;34m:\u001b[0m\u001b[0;34m,\u001b[0m\u001b[0;36m0\u001b[0m\u001b[0;34m]\u001b[0m\u001b[0;34m,\u001b[0m \u001b[0mi\u001b[0m\u001b[0;34m:\u001b[0m\u001b[0md\u001b[0m\u001b[0;34m[\u001b[0m\u001b[0;34m:\u001b[0m\u001b[0;34m,\u001b[0m\u001b[0;36m1\u001b[0m\u001b[0;34m]\u001b[0m\u001b[0;34m,\u001b[0m \u001b[0mj\u001b[0m\u001b[0;34m:\u001b[0m\u001b[0md\u001b[0m\u001b[0;34m[\u001b[0m\u001b[0;34m:\u001b[0m\u001b[0;34m,\u001b[0m\u001b[0;36m2\u001b[0m\u001b[0;34m]\u001b[0m\u001b[0;34m,\u001b[0m \u001b[0miv\u001b[0m\u001b[0;34m:\u001b[0m\u001b[0m_iv\u001b[0m\u001b[0;34m,\u001b[0m \u001b[0mjv\u001b[0m\u001b[0;34m:\u001b[0m\u001b[0m_jv\u001b[0m\u001b[0;34m}\u001b[0m\u001b[0;34m)\u001b[0m\u001b[0;34m\u001b[0m\u001b[0m\n",
      "\u001b[0;32m<ipython-input-289-6eb05d855aa7>\u001b[0m in \u001b[0;36muniform_sample_batch\u001b[0;34m(train_ratings, test_ratings, item_count, advanced_features)\u001b[0m\n\u001b[1;32m     38\u001b[0m         \u001b[0;31m# block if queue is full\u001b[0m\u001b[0;34m\u001b[0m\u001b[0;34m\u001b[0m\u001b[0m\n\u001b[1;32m     39\u001b[0m         \u001b[0;32mif\u001b[0m \u001b[0mlen\u001b[0m\u001b[0;34m(\u001b[0m\u001b[0miv\u001b[0m\u001b[0;34m)\u001b[0m\u001b[0;34m>\u001b[0m\u001b[0;36m1\u001b[0m\u001b[0;34m:\u001b[0m\u001b[0;34m\u001b[0m\u001b[0m\n\u001b[0;32m---> 40\u001b[0;31m             \u001b[0;32myield\u001b[0m \u001b[0mnumpy\u001b[0m\u001b[0;34m.\u001b[0m\u001b[0masarray\u001b[0m\u001b[0;34m(\u001b[0m\u001b[0mt\u001b[0m\u001b[0;34m)\u001b[0m\u001b[0;34m,\u001b[0m \u001b[0mnumpy\u001b[0m\u001b[0;34m.\u001b[0m\u001b[0mvstack\u001b[0m\u001b[0;34m(\u001b[0m\u001b[0mtuple\u001b[0m\u001b[0;34m(\u001b[0m\u001b[0miv\u001b[0m\u001b[0;34m)\u001b[0m\u001b[0;34m)\u001b[0m\u001b[0;34m,\u001b[0m \u001b[0mnumpy\u001b[0m\u001b[0;34m.\u001b[0m\u001b[0mvstack\u001b[0m\u001b[0;34m(\u001b[0m\u001b[0mtuple\u001b[0m\u001b[0;34m(\u001b[0m\u001b[0mjv\u001b[0m\u001b[0;34m)\u001b[0m\u001b[0;34m)\u001b[0m\u001b[0;34m\u001b[0m\u001b[0m\n\u001b[0m\u001b[1;32m     41\u001b[0m         \u001b[0;32melse\u001b[0m\u001b[0;34m:\u001b[0m\u001b[0;34m\u001b[0m\u001b[0m\n\u001b[1;32m     42\u001b[0m             \u001b[0;32mcontinue\u001b[0m\u001b[0;34m\u001b[0m\u001b[0m\n",
      "\u001b[0;32m~/anaconda3/lib/python3.6/site-packages/numpy/core/shape_base.py\u001b[0m in \u001b[0;36mvstack\u001b[0;34m(tup)\u001b[0m\n\u001b[1;32m    235\u001b[0m \u001b[0;34m\u001b[0m\u001b[0m\n\u001b[1;32m    236\u001b[0m     \"\"\"\n\u001b[0;32m--> 237\u001b[0;31m     \u001b[0;32mreturn\u001b[0m \u001b[0m_nx\u001b[0m\u001b[0;34m.\u001b[0m\u001b[0mconcatenate\u001b[0m\u001b[0;34m(\u001b[0m\u001b[0;34m[\u001b[0m\u001b[0matleast_2d\u001b[0m\u001b[0;34m(\u001b[0m\u001b[0m_m\u001b[0m\u001b[0;34m)\u001b[0m \u001b[0;32mfor\u001b[0m \u001b[0m_m\u001b[0m \u001b[0;32min\u001b[0m \u001b[0mtup\u001b[0m\u001b[0;34m]\u001b[0m\u001b[0;34m,\u001b[0m \u001b[0;36m0\u001b[0m\u001b[0;34m)\u001b[0m\u001b[0;34m\u001b[0m\u001b[0m\n\u001b[0m\u001b[1;32m    238\u001b[0m \u001b[0;34m\u001b[0m\u001b[0m\n\u001b[1;32m    239\u001b[0m \u001b[0;32mdef\u001b[0m \u001b[0mhstack\u001b[0m\u001b[0;34m(\u001b[0m\u001b[0mtup\u001b[0m\u001b[0;34m)\u001b[0m\u001b[0;34m:\u001b[0m\u001b[0;34m\u001b[0m\u001b[0m\n",
      "\u001b[0;31mValueError\u001b[0m: all the input array dimensions except for the concatenation axis must match exactly"
     ]
    }
   ],
   "source": [
    "# pdbpr_auc_train, pdbpr_auc_test, pdbpr_auc_test_cold_start = session_run(5, True, prod_desc)"
   ]
  },
  {
   "cell_type": "markdown",
   "metadata": {},
   "source": []
  },
  {
   "cell_type": "markdown",
   "metadata": {},
   "source": [
    "## Running the advanced BPR model with the hybrid of all non-visual features:  price+brand+product description features (NVBPR)"
   ]
  },
  {
   "cell_type": "code",
   "execution_count": null,
   "metadata": {
    "collapsed": true,
    "scrolled": true
   },
   "outputs": [],
   "source": [
    "a = prices_features\n",
    "b = brands_features\n",
    "c = dict([(k, numpy.append(a[k],b[k])) for k in set(b) & set(a)])\n",
    "d= prod_desc\n",
    "e = dict([(k, numpy.append(c[k],d[k])) for k in set(c) & set(d)])\n",
    "\n",
    "hybrid_non_visual_features = e\n",
    "nvbpr_auc_train, nvbpr_auc_test, nvbpr_auc_test_cold_start = session_run(5, False, hybrid_non_visual_features)"
   ]
  },
  {
   "cell_type": "markdown",
   "metadata": {},
   "source": [
    "## Running the base advanced BPR model with the hybrid of all visual and non-visual features: image+price+brand+product description features (HBPR)"
   ]
  },
  {
   "cell_type": "code",
   "execution_count": null,
   "metadata": {
    "collapsed": true,
    "scrolled": true
   },
   "outputs": [],
   "source": [
    "# uncomment the lines below once you have image features loaded\n",
    "# hybrid_all_features = dict([(k, numpy.append(e[k],f[k])) for k in set(e) & set(f)])\n",
    "# hbpr_auc_train, hbpr_auc_test, hbpr_auc_test_cold_start = session_run(5, True, hybrid_all_features)"
   ]
  },
  {
   "cell_type": "markdown",
   "metadata": {},
   "source": [
    "## comparing Test AUC vs. number of iterations for different models"
   ]
  },
  {
   "cell_type": "code",
   "execution_count": 372,
   "metadata": {
    "scrolled": true
   },
   "outputs": [
    {
     "name": "stdout",
     "output_type": "stream",
     "text": [
      "The average AUC of BPR: 0.65 with best score of 0.66\n",
      "The average AUC of Price-BPR: 0.64 with best score of 0.65\n",
      "The average AUC of Brand-BPR: 0.67 with best score of 0.70\n",
      "The average AUC of Product Categories-BPR: 0.68 with best score of 0.74\n"
     ]
    }
   ],
   "source": [
    "print (\"The average AUC of BPR: {0:0.2f} with best score of {1:0.2f}\".format(sum(bpr_auc_test)/len(bpr_auc_test), max(bpr_auc_test)))\n",
    "print (\"The average AUC of Price-BPR: {0:0.2f} with best score of {1:0.2f}\".format(sum(pbpr_auc_test)/len(pbpr_auc_test),max(pbpr_auc_test)))\n",
    "print (\"The average AUC of Brand-BPR: {0:0.2f} with best score of {1:0.2f}\".format(sum(bbpr_auc_test)/len(bbpr_auc_test),max(bbpr_auc_test)))\n",
    "print (\"The average AUC of Product Categories-BPR: {0:0.2f} with best score of {1:0.2f}\".format(sum(cbpr_auc_test)/len(cbpr_auc_test),max(cbpr_auc_test)))"
   ]
  },
  {
   "cell_type": "code",
   "execution_count": 37,
   "metadata": {},
   "outputs": [
    {
     "data": {
      "text/plain": [
       "[<matplotlib.lines.Line2D at 0x181a296cf8>]"
      ]
     },
     "execution_count": 37,
     "metadata": {},
     "output_type": "execute_result"
    },
    {
     "data": {
      "image/png": "[encoded data removed]",
      "text/plain": [
       "<matplotlib.figure.Figure at 0x181a7bc128>"
      ]
     },
     "metadata": {},
     "output_type": "display_data"
    }
   ],
   "source": [
    "plt.figure(figsize=(20,10))\n",
    "plt.plot(npbpr_auc_test, label = \"NEW-PRICE-BPR\")"
   ]
  },
  {
   "cell_type": "code",
   "execution_count": 35,
   "metadata": {},
   "outputs": [
    {
     "ename": "NameError",
     "evalue": "name 'bpr_auc_test' is not defined",
     "output_type": "error",
     "traceback": [
      "\u001b[0;31m---------------------------------------------------------------------------\u001b[0m",
      "\u001b[0;31mNameError\u001b[0m                                 Traceback (most recent call last)",
      "\u001b[0;32m<ipython-input-35-3f454c164d87>\u001b[0m in \u001b[0;36m<module>\u001b[0;34m()\u001b[0m\n\u001b[1;32m      1\u001b[0m \u001b[0mplt\u001b[0m\u001b[0;34m.\u001b[0m\u001b[0mfigure\u001b[0m\u001b[0;34m(\u001b[0m\u001b[0mfigsize\u001b[0m\u001b[0;34m=\u001b[0m\u001b[0;34m(\u001b[0m\u001b[0;36m20\u001b[0m\u001b[0;34m,\u001b[0m\u001b[0;36m10\u001b[0m\u001b[0;34m)\u001b[0m\u001b[0;34m)\u001b[0m\u001b[0;34m\u001b[0m\u001b[0m\n\u001b[0;32m----> 2\u001b[0;31m \u001b[0mplt\u001b[0m\u001b[0;34m.\u001b[0m\u001b[0mplot\u001b[0m\u001b[0;34m(\u001b[0m\u001b[0mbpr_auc_test\u001b[0m\u001b[0;34m,\u001b[0m \u001b[0mlabel\u001b[0m \u001b[0;34m=\u001b[0m \u001b[0;34m\"BPR\"\u001b[0m\u001b[0;34m)\u001b[0m\u001b[0;34m\u001b[0m\u001b[0m\n\u001b[0m\u001b[1;32m      3\u001b[0m \u001b[0mplt\u001b[0m\u001b[0;34m.\u001b[0m\u001b[0mplot\u001b[0m\u001b[0;34m(\u001b[0m\u001b[0mnpbpr_auc_test\u001b[0m\u001b[0;34m,\u001b[0m \u001b[0mlabel\u001b[0m \u001b[0;34m=\u001b[0m \u001b[0;34m\"BPR\"\u001b[0m\u001b[0;34m)\u001b[0m\u001b[0;34m\u001b[0m\u001b[0m\n\u001b[1;32m      4\u001b[0m \u001b[0mplt\u001b[0m\u001b[0;34m.\u001b[0m\u001b[0mplot\u001b[0m\u001b[0;34m(\u001b[0m\u001b[0mpbpr_auc_test\u001b[0m\u001b[0;34m,\u001b[0m \u001b[0mlabel\u001b[0m \u001b[0;34m=\u001b[0m \u001b[0;34m\"Price-BPR\"\u001b[0m\u001b[0;34m)\u001b[0m\u001b[0;34m\u001b[0m\u001b[0m\n\u001b[1;32m      5\u001b[0m \u001b[0mplt\u001b[0m\u001b[0;34m.\u001b[0m\u001b[0mplot\u001b[0m\u001b[0;34m(\u001b[0m\u001b[0mbbpr_auc_test\u001b[0m\u001b[0;34m,\u001b[0m \u001b[0mlabel\u001b[0m \u001b[0;34m=\u001b[0m \u001b[0;34m\"Brand-BPR\"\u001b[0m\u001b[0;34m)\u001b[0m\u001b[0;34m\u001b[0m\u001b[0m\n",
      "\u001b[0;31mNameError\u001b[0m: name 'bpr_auc_test' is not defined"
     ]
    },
    {
     "data": {
      "text/plain": [
       "<matplotlib.figure.Figure at 0x181a1cba90>"
      ]
     },
     "metadata": {},
     "output_type": "display_data"
    }
   ],
   "source": [
    "plt.figure(figsize=(20,10))\n",
    "plt.plot(bpr_auc_test, label = \"BPR\")\n",
    "plt.plot(npbpr_auc_test, label = \"BPR\")\n",
    "plt.plot(pbpr_auc_test, label = \"Price-BPR\")\n",
    "plt.plot(bbpr_auc_test, label = \"Brand-BPR\")\n",
    "# plt.plot(pdbpr_auc_test, label = \"Product Description-BPR\")\n",
    "plt.plot(cbpr_auc_test,label=\"Product Categories-BPR\")\n",
    "# plt.plot(nvbpr_auc_test, label = \"NonVisual-BPR\")\n",
    "# plt.plot(vbpr_auc_test, label = \"Visual-BPR\")\n",
    "# plt.plot(hbpr_auc_test, label = \"Hybrid-BPR\")\n",
    "plt.legend()\n",
    "plt.ylabel(\"Test AUC\")\n",
    "plt.xlabel(\"Number of Iterations\")\n",
    "plt.figure.savefig('testauc.png')"
   ]
  },
  {
   "cell_type": "markdown",
   "metadata": {},
   "source": [
    "## comparing Cold Start Test AUC vs. number of iterations for different models"
   ]
  },
  {
   "cell_type": "code",
   "execution_count": 349,
   "metadata": {},
   "outputs": [
    {
     "data": {
      "text/plain": [
       "Text(0.5,0,'Number of Iterations')"
      ]
     },
     "execution_count": 349,
     "metadata": {},
     "output_type": "execute_result"
    },
    {
     "data": {
      "image/png": "[encoded data removed]",
      "text/plain": [
       "<matplotlib.figure.Figure at 0x1820af09b0>"
      ]
     },
     "metadata": {},
     "output_type": "display_data"
    }
   ],
   "source": [
    "plt.figure(figsize=(20,10))\n",
    "plt.plot(bpr_auc_test_cold_start, label = \"BPR\")\n",
    "plt.plot(pbpr_auc_test_cold_start, label = \"Price-BPR\")\n",
    "plt.plot(bbpr_auc_test_cold_start, label = \"Brand-BPR\")\n",
    "# plt.plot(pdbpr_auc_test_cold_start, label = \"Product Description-BPR\")\n",
    "plt.plot(cbpr_auc_test_cold_start, label = \"Product Categories-BPR\")\n",
    "# plt.plot(nvbpr_auc_test_cold_start, label = \"NonVisual-BPR\")\n",
    "# plt.plot(vbpr_auc_test_cold_start, label = \"Visual-BPR\")\n",
    "# plt.plot(hbpr_auc_test_cold_start, label = \"Hybrid-BPR\")\n",
    "plt.legend()\n",
    "plt.ylabel(\"Cold Start Test AUC\")\n",
    "plt.xlabel(\"Number of Iterations\")"
   ]
  },
  {
   "cell_type": "markdown",
   "metadata": {},
   "source": [
    "## Writing the results to a CSV file"
   ]
  },
  {
   "cell_type": "code",
   "execution_count": null,
   "metadata": {
    "collapsed": true
   },
   "outputs": [],
   "source": [
    "import csv\n",
    "rows = zip(bpr_auc_test, pbpr_auc_test, bbpr_auc_test, pdbpr_auc_test, nvbpr_auc_test, vbpr_auc_test, \n",
    "           hbpr_auc_test, bpr_auc_test_cold_start, pbpr_auc_test_cold_start, bbpr_auc_test_cold_start,\n",
    "          pdbpr_auc_test_cold_start, nvbpr_auc_test_cold_start, vbpr_auc_test_cold_start, hbpr_auc_test_cold_start)\n",
    "\n",
    "with open(\"AUC_5core_Women.csv\", \"wb\") as f:\n",
    "    writer = csv.writer(f)\n",
    "    writer.writerow([\"bpr_auc_test\", \"pbpr_auc_test\", \"bbpr_auc_test\", \"pdbpr_auc_test\", \"nvbpr_auc_test\", \n",
    "                     \"vbpr_auc_test\", \"hbpr_auc_test\", \"bpr_auc_test_cold_start\", \"pbpr_auc_test_cold_start\",\n",
    "                    \"bbpr_auc_test_cold_start\", \"pdbpr_auc_test_cold_start\", \"nvbpr_auc_test_cold_start\",\n",
    "                    \"vbpr_auc_test_cold_start\", \"hbpr_auc_test_cold_start\"])\n",
    "    for row in rows:\n",
    "        writer.writerow(row)"
   ]
  }
 ],
 "metadata": {
  "kernelspec": {
   "display_name": "Python 3",
   "language": "python",
   "name": "python3"
  },
  "language_info": {
   "codemirror_mode": {
    "name": "ipython",
    "version": 3
   },
   "file_extension": ".py",
   "mimetype": "text/x-python",
   "name": "python",
   "nbconvert_exporter": "python",
   "pygments_lexer": "ipython3",
   "version": "3.6.3"
  }
 },
 "nbformat": 4,
 "nbformat_minor": 2
}
