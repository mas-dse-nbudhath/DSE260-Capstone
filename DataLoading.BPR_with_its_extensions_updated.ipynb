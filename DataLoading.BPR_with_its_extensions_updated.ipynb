{
 "cells": [
  {
   "cell_type": "markdown",
   "metadata": {},
   "source": [
    "## importing required libraries"
   ]
  },
  {
   "cell_type": "code",
   "execution_count": 24,
   "metadata": {
    "collapsed": true
   },
   "outputs": [],
   "source": [
    "import pandas as pd\n",
    "import warnings\n",
    "warnings.filterwarnings('ignore')\n",
    "from collections import defaultdict\n",
    "import struct\n",
    "import numpy as np\n",
    "import numpy\n",
    "import random\n",
    "import tensorflow as tf\n",
    "import os\n",
    "import pickle as pickle\n",
    "import matplotlib.pyplot as plt\n",
    "import sys\n",
    "%matplotlib inline\n",
    "from operator import itemgetter"
   ]
  },
  {
   "cell_type": "code",
   "execution_count": 2,
   "metadata": {
    "collapsed": true,
    "scrolled": false
   },
   "outputs": [],
   "source": [
    "#this function helps to visualize the dict\n",
    "from itertools import islice\n",
    "\n",
    "def take(n, iterable):\n",
    "    \"Return first n items of the iterable as a list\"\n",
    "    return list(islice(iterable, n))\n",
    "# take(1, prod_desc.values())"
   ]
  },
  {
   "cell_type": "markdown",
   "metadata": {},
   "source": [
    "## procedure to load the data from the json format to rating matrix"
   ]
  },
  {
   "cell_type": "code",
   "execution_count": 3,
   "metadata": {
    "collapsed": true
   },
   "outputs": [],
   "source": [
    "# load data after creating features\n",
    "def load_data_hybrid(data_path, min_items=2, min_users=2, sampling= True, sample_size = 0.5):\n",
    "    user_ratings = defaultdict(set)\n",
    "    item_ratings = defaultdict(set)\n",
    "    max_u_id = -1\n",
    "    max_i_id = -1\n",
    "    user_count = 0\n",
    "    item_count = 0\n",
    "    reviews = 0\n",
    "    users = {}  # aid to id LUT\n",
    "    items = {}  # asid to id LUT\n",
    "    records = {} # all records\n",
    "    features = {}\n",
    "    random.seed(0)\n",
    "    columns = None\n",
    "    offset_to_features = 3\n",
    "    with open(data_path, 'r') as f:\n",
    "        bad_actor = 0\n",
    "        for line in f.readlines():\n",
    "            record = {}\n",
    "            split_line = line.split(\",\")\n",
    "            if columns is None:\n",
    "                columns = [e.rstrip() for e in split_line]\n",
    "                continue\n",
    "            if (sampling and random.random()>sample_size):\n",
    "                continue\n",
    "            reviews += 1\n",
    "            \n",
    "            if (len(split_line) > len(columns)):\n",
    "                bad_actor = bad_actor + 1\n",
    "                continue\n",
    "            else:\n",
    "                auid, asid, _ = split_line[0:offset_to_features]\n",
    "                record = {columns[i]:split_line[i].rstrip() for i in  range (offset_to_features, len(split_line))}\n",
    "\n",
    "            u, i = None, None\n",
    "\n",
    "            if auid in users:\n",
    "                u = users[auid]\n",
    "            else:\n",
    "                user_count += 1  # new user so increment\n",
    "                users[auid] = user_count\n",
    "                u = user_count\n",
    "            \n",
    "            if asid in items:\n",
    "                i = items[asid]\n",
    "            else:\n",
    "                item_count += 1  # new i so increment\n",
    "                items[asid] = item_count\n",
    "                i = item_count\n",
    "                records[i] = record\n",
    "                if record['price'] == '':\n",
    "                    records[i]['price'] = 0\n",
    "                else:\n",
    "                    records[i]['price'] = float(record['price'])\n",
    "                    \n",
    "                records[i]['polarity']= round((float(record['polarity'])),2)\n",
    "                    \n",
    "                if len(record['feature_vector']) == 0:\n",
    "                    records[i]['feature_vector'] = list(np.zeros(4524))\n",
    "                else:\n",
    "                    records[i]['feature_vector'] = [int(el) for el in list(record['feature_vector'])[:-1][1:]]\n",
    "    \n",
    "                for c in ['top_categories','rating','percentile_hotcoded','season']:\n",
    "                    records[i][c] = [int(el) for el in list(record[c])[:-2][1:]] \n",
    "            \n",
    "            user_ratings[u].add(i)\n",
    "            item_ratings[i].add(u)\n",
    "            max_u_id = max(u, max_u_id)\n",
    "            max_i_id = max(i, max_i_id)\n",
    "            \n",
    "    print (\"max_u_id: \", max_u_id)\n",
    "    print (\"max_i_id: \", max_i_id)\n",
    "    print (\"reviews : \", reviews)\n",
    "\n",
    "\n",
    "    # filter out users w/ less than X reviews\n",
    "    num_u_id = 0\n",
    "    num_i_id = 0\n",
    "    num_reviews = 0\n",
    "    user_ratings_filtered = defaultdict(set)\n",
    "    for u, ids in user_ratings.items():\n",
    "        if len(ids) > min_items:\n",
    "            user_ratings_filtered[u] = ids\n",
    "            num_u_id += 1\n",
    "            num_reviews += len(ids)\n",
    "            \n",
    "    item_ratings_filtered = defaultdict(set)\n",
    "    for ids, u in item_ratings.items():\n",
    "        if len(u) > min_users:\n",
    "            # keep\n",
    "            item_ratings_filtered[ids] = u\n",
    "            num_i_id += 1\n",
    "    \n",
    "    feature_keys = records[1].keys() #should be same as columns[offset:]\n",
    "    features = {k:{i:records[i][k] for i in range(1,len(records)+1)} for k in feature_keys}\n",
    "\n",
    "    print (\"u_id: \", num_u_id)\n",
    "    print (\"i_id: \", num_i_id)\n",
    "    print (\"reviews : \", num_reviews)\n",
    "    #return max_u_id, max_i_id, users, items, user_ratings_filtered,\\\n",
    "    #            item_ratings_filtered, brands, prices, prod_desc, prod_cat,price_feature,season_feature\n",
    "    return max_u_id, max_i_id, users, items, user_ratings_filtered,item_ratings_filtered, features"
   ]
  },
  {
   "cell_type": "markdown",
   "metadata": {},
   "source": [
    "## Procedure to load image features of the products"
   ]
  },
  {
   "cell_type": "code",
   "execution_count": 4,
   "metadata": {
    "collapsed": true
   },
   "outputs": [],
   "source": [
    "#load image features for the given asin collection into dictionary\n",
    "def load_image_features(path, items):\n",
    "    count=0\n",
    "    image_features = {}\n",
    "    f = open(path, 'rb')\n",
    "    while True:\n",
    "        asin = f.read(10)\n",
    "        if asin == '': break\n",
    "        features_bytes = f.read(16384) # 4 * 4096 = 16KB, fast read, don't unpack\n",
    "  \n",
    "        if asin in items: #only unpack 4096 bytes if w need it -- big speed up\n",
    "            features = (np.fromstring(features_bytes, dtype=np.float32)/58.388599)\n",
    "            iid=items[asin]\n",
    "            if len(features)==0:\n",
    "                image_features[iid] = np.zeros(4096)\n",
    "            else:\n",
    "                image_features[iid] = features\n",
    "    \n",
    "    return image_features"
   ]
  },
  {
   "cell_type": "markdown",
   "metadata": {},
   "source": [
    "## Procedure to uniformly sample the (u,i,j) triplet from the raw data for the train set"
   ]
  },
  {
   "cell_type": "code",
   "execution_count": 5,
   "metadata": {
    "collapsed": true
   },
   "outputs": [],
   "source": [
    "def uniform_sample_batch(train_ratings, test_ratings, item_count, advanced_features):\n",
    "    neg_items = 2\n",
    "    for u in train_ratings.keys():\n",
    "        t = []\n",
    "        iv = []\n",
    "        jv = []\n",
    "        for i in train_ratings[u]:\n",
    "            if (u in test_ratings.keys()):\n",
    "                if (i != test_ratings[u]):  # make sure it's not in the test set\n",
    "                    for k in range(1,neg_items):\n",
    "                        j = random.randint(1, item_count)\n",
    "                        while j in train_ratings[u]:\n",
    "                            j = random.randint(1, item_count)\n",
    "                        # sometimes there will not be an image for given product\n",
    "                        try:\n",
    "                            advanced_features[i]\n",
    "                            advanced_features[j]\n",
    "                        except KeyError:\n",
    "                            continue\n",
    "                        iv.append(advanced_features[i])\n",
    "                        jv.append(advanced_features[j])\n",
    "                        t.append([u, i, j])\n",
    "            else:\n",
    "                for k in range(1,neg_items):\n",
    "                    j = random.randint(1, item_count)\n",
    "                    while j in train_ratings[u]:\n",
    "                        j = random.randint(1, item_count)\n",
    "                    # sometimes there will not be an image for given product\n",
    "                    try:\n",
    "                        advanced_features[i]\n",
    "                        advanced_features[j]\n",
    "                    except KeyError:\n",
    "                        continue\n",
    "                    iv.append(advanced_features[i])\n",
    "                    jv.append(advanced_features[j])\n",
    "                    t.append([u, i, j])\n",
    "\n",
    "        # block if queue is full\n",
    "        if len(iv)>1:\n",
    "            yield numpy.asarray(t), numpy.vstack(tuple(iv)), numpy.vstack(tuple(jv))\n",
    "        else:\n",
    "            continue"
   ]
  },
  {
   "cell_type": "markdown",
   "metadata": {},
   "source": [
    "## Procedure to uniformly sample the (u,i,j) triplet from the raw data for the test set"
   ]
  },
  {
   "cell_type": "code",
   "execution_count": 6,
   "metadata": {
    "collapsed": true
   },
   "outputs": [],
   "source": [
    "def test_batch_generator_by_user(train_ratings, test_ratings, item_ratings, item_count, advanced_features, cold_start = False, cold_start_thresh = 5):\n",
    "    # using leave one cv\n",
    "    for u in random.sample(test_ratings.keys(), 4000):\n",
    "    #for u in test_ratings.keys():\n",
    "        i = test_ratings[u]\n",
    "        if (cold_start and len(item_ratings[i]) > cold_start_thresh-1):\n",
    "            continue\n",
    "        t = []\n",
    "        ilist = []\n",
    "        jlist = []\n",
    "        count = 0\n",
    "        for j in random.sample(range(item_count), 100):\n",
    "            # find item not in test[u] and train[u]\n",
    "            if j != test_ratings[u] and not (j in train_ratings[u]):\n",
    "                try:\n",
    "                    advanced_features[i]\n",
    "                    advanced_features[j]\n",
    "                except KeyError:\n",
    "                    continue\n",
    "\n",
    "                count += 1\n",
    "                t.append([u, i, j])\n",
    "                ilist.append(advanced_features[i])\n",
    "                jlist.append(advanced_features[j])\n",
    "\n",
    "        # print numpy.asarray(t).shape\n",
    "        # print numpy.vstack(tuple(ilist)).shape\n",
    "        # print numpy.vstack(tuple(jlist)).shape\n",
    "        if (len(ilist) == 0):\n",
    "            #print \"could not find neg item for user, count: \", count, u\n",
    "            continue\n",
    "        yield numpy.asarray(t), numpy.vstack(tuple(ilist)), numpy.vstack(tuple(jlist))"
   ]
  },
  {
   "cell_type": "markdown",
   "metadata": {},
   "source": [
    "## Procedure to generate the (u,i) pair for the test data"
   ]
  },
  {
   "cell_type": "code",
   "execution_count": 7,
   "metadata": {
    "collapsed": true
   },
   "outputs": [],
   "source": [
    "def generate_test(user_ratings):\n",
    "    '''\n",
    "    for each user, random select one rating into test set\n",
    "    '''\n",
    "    user_test = dict()\n",
    "    for u, i_list in user_ratings.items():\n",
    "        user_test[u] = random.sample(user_ratings[u], 1)[0]\n",
    "    return user_test"
   ]
  },
  {
   "cell_type": "markdown",
   "metadata": {},
   "source": [
    "## performs transformations and/or necessary hot encoding"
   ]
  },
  {
   "cell_type": "code",
   "execution_count": 8,
   "metadata": {
    "collapsed": true
   },
   "outputs": [],
   "source": [
    "#user_count, item_count, users, items, user_ratings, item_ratings, brands, prices, prod_desc = load_data_hybrid(data_path, min_items=4, min_users=0, sampling= True, sample_size = 0.8)\n",
    "def transform_features (features):\n",
    "    if 'price' in features:\n",
    "        prices = features['price']\n",
    "\n",
    "        prices_features= {}\n",
    "        prices_all = list(set(prices.values()))\n",
    "        price_quant_level = 10\n",
    "        price_max = float(max(prices.values()))\n",
    "        for key, value in prices.items():\n",
    "            prices_vec = numpy.zeros(price_quant_level+1)\n",
    "            idx = int(numpy.ceil(float(value)/(price_max/price_quant_level)))\n",
    "            prices_vec[idx]=1\n",
    "            prices_features[key] = prices_vec\n",
    "        features['price'] = prices_features\n",
    "    if 'brand' in features:\n",
    "        brands_features = {}\n",
    "        brands = loaded_features['brand']\n",
    "        brands_all = list(set(brands.values()))\n",
    "        for key, value in brands.items():\n",
    "            brands_vec = numpy.zeros(len(brands_all))\n",
    "            brands_vec[brands_all.index(value)] = 1\n",
    "            brands_features[key] = brands_vec\n",
    "        features['brand'] = brands_features\n",
    "        \n",
    "    return features"
   ]
  },
  {
   "cell_type": "markdown",
   "metadata": {},
   "source": [
    "## function to combine features"
   ]
  },
  {
   "cell_type": "code",
   "execution_count": 9,
   "metadata": {
    "collapsed": true
   },
   "outputs": [],
   "source": [
    "# list of features defined as dicts can be passed and they are combined, if none array of zeros are created\n",
    "\n",
    "def feature_set(feature_dicts=None):\n",
    "    if feature_dicts!=None:\n",
    "        combined_features = defaultdict(list)\n",
    "        for d in feature_dicts:\n",
    "            for k, v in d.items():  \n",
    "                combined_features[k].extend(v)\n",
    "\n",
    "        return dict([(k,v) for k,v in combined_features.items()])\n",
    "    \n",
    "    else:\n",
    "        \n",
    "        return {n: [0] for n in range(1,item_count+1)} #return just zeros dummy advanced features for baseline BPR"
   ]
  },
  {
   "cell_type": "markdown",
   "metadata": {},
   "source": [
    "## Bayesian Personalized Ranking (BPR) Model and it's extensions (VBPR, NVBPR, Hybrid)"
   ]
  },
  {
   "cell_type": "code",
   "execution_count": 20,
   "metadata": {
    "collapsed": true
   },
   "outputs": [],
   "source": [
    "def abpr(user_count, item_count, advanced_features, hidden_dim=5, hidden_adv_dim=5,\n",
    "         l2_regulization=0.1,\n",
    "         bias_regulization=0.01,\n",
    "         embed_regulization = 0.1,\n",
    "         adv_feature_regulization =0.1,\n",
    "         adv_feature_bias_regulization = 0.01):\n",
    "    \"\"\"\n",
    "    user_count: total number of users\n",
    "    item_count: total number of items\n",
    "    hidden_dim: hidden feature size of MF\n",
    "    hidden_adv_dim: hidden visual/non-visual feature size of MF\n",
    "    P.S. advanced_features can be one or many features combined. it can only be image features, non-image features, or both\n",
    "    \"\"\"\n",
    "    advanced_feat_dim = len(advanced_features[1])\n",
    "    iv = tf.placeholder(tf.float32, [None, advanced_feat_dim])\n",
    "    jv = tf.placeholder(tf.float32, [None, advanced_feat_dim])\n",
    "    u = tf.placeholder(tf.int32, [None])\n",
    "    i = tf.placeholder(tf.int32, [None])\n",
    "    j = tf.placeholder(tf.int32, [None])\n",
    "    \n",
    "    # model parameters -- LEARN THESE\n",
    "    # latent factors\n",
    "    user_emb_w = tf.get_variable(\"user_emb_w\", [user_count + 1, hidden_dim],\n",
    "                                 initializer=tf.random_normal_initializer(0, 0.1))\n",
    "    item_emb_w = tf.get_variable(\"item_emb_w\", [item_count + 1, hidden_dim],\n",
    "                                 initializer=tf.random_normal_initializer(0, 0.1))\n",
    "    # biases\n",
    "    item_b = tf.get_variable(\"item_b\", [item_count + 1, 1], initializer=tf.constant_initializer(0.0))\n",
    "\n",
    "    # pull out the respective latent factor vectors for a given user u and items i & j\n",
    "    u_emb = tf.nn.embedding_lookup(user_emb_w, u)\n",
    "    i_emb = tf.nn.embedding_lookup(item_emb_w, i)\n",
    "    j_emb = tf.nn.embedding_lookup(item_emb_w, j)\n",
    "    \n",
    "    # get the respective biases for items i & j\n",
    "    i_b = tf.nn.embedding_lookup(item_b, i)\n",
    "    j_b = tf.nn.embedding_lookup(item_b, j)\n",
    "\n",
    "\n",
    "    # MF predict: u_i > u_j\n",
    "   \n",
    "    # UxD Advanced feature latent factors for users\n",
    "    user_adv_w = tf.get_variable(\"user_adv_w\", [user_count + 1, hidden_adv_dim],\n",
    "                             initializer=tf.random_normal_initializer(0, 0.1))\n",
    "    # this is E, the embedding matrix\n",
    "    item_adv_w = tf.get_variable(\"item_adv_w\", [hidden_adv_dim, advanced_feat_dim],\n",
    "                            initializer=tf.random_normal_initializer(0, 0.1))\n",
    "\n",
    "    theta_i = tf.matmul(iv, item_adv_w, transpose_b=True)  # (f_i * E), eq. 3\n",
    "    theta_j = tf.matmul(jv, item_adv_w, transpose_b=True)  # (f_j * E), eq. 3\n",
    "\n",
    "    adv_feature_bias = tf.get_variable(\"adv_feature_bias\", [1, advanced_feat_dim], initializer=tf.random_normal_initializer(0, 0.1))\n",
    "    # pull out the visual factor, 1 X D for user u\n",
    "\n",
    "    u_img = tf.nn.embedding_lookup(user_adv_w, u)\n",
    "\n",
    "    xui = i_b + tf.reduce_sum(tf.multiply(u_emb, i_emb), 1, keep_dims=True) + tf.reduce_sum(tf.multiply(u_img, theta_i), 1, keep_dims=True) \\\n",
    "                                                                        + tf.reduce_sum(tf.multiply(adv_feature_bias, iv), 1, keep_dims=True) \n",
    "    xuj = j_b + tf.reduce_sum(tf.multiply(u_emb, j_emb), 1, keep_dims=True) + tf.reduce_sum(tf.multiply(u_img, theta_j), 1, keep_dims=True) \\\n",
    "                                                                        + tf.reduce_sum(tf.multiply(adv_feature_bias, jv), 1, keep_dims=True) \n",
    "    l2_norm = tf.add_n([\n",
    "        l2_regulization * tf.reduce_sum(tf.multiply(u_emb, u_emb)),\n",
    "        adv_feature_regulization * tf.reduce_sum(tf.multiply(u_img, u_img)),\n",
    "        l2_regulization * tf.reduce_sum(tf.multiply(i_emb, i_emb)),\n",
    "        l2_regulization * tf.reduce_sum(tf.multiply(j_emb, j_emb)),\n",
    "        embed_regulization * tf.reduce_sum(tf.multiply(item_adv_w, item_adv_w)),\n",
    "        bias_regulization * tf.reduce_sum(tf.multiply(i_b, i_b)),\n",
    "        bias_regulization * tf.reduce_sum(tf.multiply(j_b, j_b)),\n",
    "        adv_feature_bias_regulization * tf.reduce_sum(tf.multiply(adv_feature_bias, adv_feature_bias))\n",
    "    ])\n",
    "        \n",
    "    xuij = xui - xuj\n",
    "\n",
    "    auc = tf.reduce_mean(tf.to_float(xuij > 0))\n",
    "    \n",
    "    loss = l2_norm - tf.reduce_mean(tf.log(tf.sigmoid(xuij)))\n",
    "    \n",
    "    train_op = tf.train.AdamOptimizer().minimize(loss)\n",
    "    \n",
    "    return xuij, u, i, j, iv, jv, loss, auc, train_op"
   ]
  },
  {
   "cell_type": "markdown",
   "metadata": {},
   "source": [
    "## Procedure to run the end-to-end model (from loading data to training the model and to test the model)"
   ]
  },
  {
   "cell_type": "code",
   "execution_count": 16,
   "metadata": {
    "collapsed": true
   },
   "outputs": [],
   "source": [
    "def session_run(num_iter, user_count, item_count, users, items, user_ratings, item_ratings, advanced_features):\n",
    "    ### Loading and parsing the review matrix for Women 5-core dataset\n",
    "    auc_train = []\n",
    "    auc_test = []\n",
    "    auc_test_cs = []\n",
    "    #data_path = os.path.join('/Users/nolanthomas/Public/amazon', 'out_topcategories_pricepercentile_seasonmeteorological.csv')\n",
    "    #user_count, item_count, users, items, user_ratings, item_ratings, brands, features = load_data_hybrid(data_path, min_items=4, min_users=0, sampling= True, sample_size = 0.8)\n",
    "    user_ratings_test = generate_test(user_ratings)\n",
    "    with tf.Graph().as_default(), tf.Session() as session:\n",
    "        with tf.variable_scope('abpr'):\n",
    "            xuij, u, i, j, iv, jv, loss, auc, train_op = abpr(user_count, item_count, advanced_features)\n",
    "\n",
    "        session.run(tf.global_variables_initializer())\n",
    "        \n",
    "\n",
    "        for epoch in range(1, num_iter+1):\n",
    "            print (\"epoch \", epoch)\n",
    "            _loss_train = 0.0\n",
    "            user_count = 0\n",
    "            auc_train_values = []\n",
    "            for d, _iv, _jv in uniform_sample_batch(user_ratings, user_ratings_test, item_count, advanced_features):\n",
    "                user_count += 1\n",
    "                _loss, _auc, _ = session.run([loss, auc, train_op], feed_dict={u:d[:,0], i:d[:,1], j:d[:,2], iv:_iv, jv:_jv})\n",
    "                _loss_train += _loss\n",
    "                auc_train_values.append(_auc)\n",
    "            print (\"train_loss:\", _loss_train/user_count, \"train auc: \", numpy.mean(auc_train_values))\n",
    "            auc_train.append(numpy.mean(auc_train_values))\n",
    "\n",
    "\n",
    "            auc_values = []\n",
    "            _loss_test = 0.0\n",
    "            user_count = 0\n",
    "            user_items= []\n",
    "            for d, _iv, _jv in test_batch_generator_by_user(user_ratings, user_ratings_test, item_ratings, item_count, advanced_features, cold_start = False):\n",
    "                user_count += 1\n",
    "                _loss, _auc = session.run([loss, auc], feed_dict={u: d[:, 0], i: d[:, 1], j: d[:, 2], iv: _iv, jv: _jv})\n",
    "                _loss_test += _loss\n",
    "                auc_values.append(_auc)\n",
    "            print (\"test_loss: \", _loss_test / user_count, \"test auc: \", numpy.mean(auc_values))\n",
    "            auc_test.append(numpy.mean(auc_values))\n",
    "\n",
    "            auc_values_cs = []\n",
    "            _loss_test_cs = 0.0\n",
    "            user_count = 0\n",
    "            for d, _iv, _jv in test_batch_generator_by_user(user_ratings, user_ratings_test, item_ratings, item_count, advanced_features, cold_start = True, cold_start_thresh = 10):\n",
    "                user_count += 1\n",
    "                _xuij,_loss, _auc = session.run([xuij,loss, auc], feed_dict={u: d[:, 0], i: d[:, 1], j: d[:, 2], iv: _iv, jv: _jv})\n",
    "                _loss_test_cs += _loss\n",
    "                auc_values_cs.append(_auc)\n",
    "                # only capturing users-items after last epoch\n",
    "                if epoch==num_iter:\n",
    "                    user_items.append((d,_xuij))\n",
    "            print (\"cold start test_loss: \", _loss_test_cs / user_count, \"cold start auc: \", numpy.mean(auc_values_cs))\n",
    "            auc_test_cs.append(numpy.mean(auc_values_cs))\n",
    "        return user_items, auc_train, auc_test, auc_test_cs"
   ]
  },
  {
   "cell_type": "markdown",
   "metadata": {},
   "source": [
    "## function to get user items list -purchased vs not purchased"
   ]
  },
  {
   "cell_type": "code",
   "execution_count": 41,
   "metadata": {
    "collapsed": true
   },
   "outputs": [],
   "source": [
    "def user_item_list(user_items, N):\n",
    "    user_i_preffered= [(x[0][0],x[1][0]) for x in user_items if x[1][0] >0]\n",
    "    user_j_preffered= [(x[0][0],x[1][0]) for x in user_items if x[1][0] <0]\n",
    "    user_i_preffered.sort(key=itemgetter(1), reverse=True)\n",
    "    user_j_preffered.sort(key=itemgetter(1))\n",
    "    return user_i_preffered[:N], user_j_preffered[:N]"
   ]
  },
  {
   "cell_type": "markdown",
   "metadata": {},
   "source": [
    "## Load and make transformations; reuse across sessions\n",
    "#### 1. Load data\n",
    "#### 2. Make transformations\n",
    "#### 3. Run Session"
   ]
  },
  {
   "cell_type": "code",
   "execution_count": 12,
   "metadata": {
    "scrolled": true
   },
   "outputs": [
    {
     "name": "stdout",
     "output_type": "stream",
     "text": [
      "max_u_id:  34539\n",
      "max_i_id:  14765\n",
      "reviews :  144981\n",
      "u_id:  12307\n",
      "i_id:  14765\n",
      "reviews :  84031\n"
     ]
    }
   ],
   "source": [
    "data_path = os.path.join('/Users/nirmal/Downloads/out_cat_ptile_season_rating_polarity-2.csv')\n",
    "user_count, item_count, users, items, user_ratings, item_ratings, loaded_features   = load_data_hybrid(data_path, min_items=4, min_users=0, sampling= True, sample_size = 0.8)\n",
    "loaded_features = transform_features(loaded_features)\n",
    "# len(take(1, loaded_features['brand'].values())[0])"
   ]
  },
  {
   "cell_type": "markdown",
   "metadata": {},
   "source": [
    "## Running BASELINE BPR with no advanced features at all"
   ]
  },
  {
   "cell_type": "code",
   "execution_count": 13,
   "metadata": {
    "collapsed": true
   },
   "outputs": [],
   "source": [
    "# define number of sessions or epochs\n",
    "NUM_SESSIONS = 3"
   ]
  },
  {
   "cell_type": "code",
   "execution_count": 19,
   "metadata": {
    "scrolled": true
   },
   "outputs": [
    {
     "name": "stdout",
     "output_type": "stream",
     "text": [
      "epoch  1\n",
      "train_loss: 0.830054671989 train auc:  0.622999\n",
      "test_loss:  2.13344516376 test auc:  0.656208\n",
      "cold start test_loss:  2.21860398051 cold start auc:  0.384327\n",
      "epoch  2\n",
      "train_loss: 0.715919726807 train auc:  0.69255\n",
      "test_loss:  1.60257315107 test auc:  0.647769\n",
      "cold start test_loss:  1.6232683749 cold start auc:  0.359548\n",
      "epoch  3\n",
      "train_loss: 0.663300993952 train auc:  0.711345\n",
      "test_loss:  1.3691591043 test auc:  0.650616\n",
      "cold start test_loss:  1.35763771263 cold start auc:  0.37137\n"
     ]
    }
   ],
   "source": [
    "# feature_set() is called without arguments\n",
    "user_items, bpr_auc_train, bpr_auc_test, bpr_auc_test_cold_start = session_run(NUM_SESSIONS, user_count, item_count, users, items, user_ratings, item_ratings,feature_set())"
   ]
  },
  {
   "cell_type": "code",
   "execution_count": 42,
   "metadata": {},
   "outputs": [],
   "source": [
    "N=10 # top 15 lists\n",
    "user_purchased_list, user_not_purchased_list= user_item_list(user_items, N)"
   ]
  },
  {
   "cell_type": "code",
   "execution_count": 43,
   "metadata": {},
   "outputs": [
    {
     "data": {
      "text/plain": [
       "[(array([12301,  8360, 11871]), array([ 0.55581725], dtype=float32)),\n",
       " (array([32912,  7457, 14638]), array([ 0.49260283], dtype=float32)),\n",
       " (array([26310, 10316,  3464]), array([ 0.48990533], dtype=float32)),\n",
       " (array([14274,  3394,  4873]), array([ 0.47960067], dtype=float32)),\n",
       " (array([7997, 2279, 7294]), array([ 0.47252455], dtype=float32)),\n",
       " (array([5370, 4358, 2774]), array([ 0.47098035], dtype=float32)),\n",
       " (array([10191, 10800,  6295]), array([ 0.45534632], dtype=float32)),\n",
       " (array([13341,  8207, 11725]), array([ 0.44577047], dtype=float32)),\n",
       " (array([12136,  2666,  8115]), array([ 0.44281191], dtype=float32)),\n",
       " (array([21405,  7938,  7842]), array([ 0.44090018], dtype=float32))]"
      ]
     },
     "execution_count": 43,
     "metadata": {},
     "output_type": "execute_result"
    }
   ],
   "source": [
    "# we can only see the users and items by index, to get actual userid and itemid , it has to be compared to user-item list\n",
    "user_purchased_list"
   ]
  },
  {
   "cell_type": "code",
   "execution_count": 44,
   "metadata": {},
   "outputs": [
    {
     "data": {
      "text/plain": [
       "[(array([10181, 10959,   183]), array([-1.5771836], dtype=float32)),\n",
       " (array([ 1410, 10248,   631]), array([-1.49515641], dtype=float32)),\n",
       " (array([ 9662, 13889,   243]), array([-1.46570098], dtype=float32)),\n",
       " (array([ 8857, 11516,   586]), array([-1.44035792], dtype=float32)),\n",
       " (array([19510, 11716,  1255]), array([-1.43840599], dtype=float32)),\n",
       " (array([29477, 13256,  1054]), array([-1.42784321], dtype=float32)),\n",
       " (array([ 9663, 13134,  1204]), array([-1.41725814], dtype=float32)),\n",
       " (array([10082,  4399,  2405]), array([-1.39978695], dtype=float32)),\n",
       " (array([16100,  4692,   741]), array([-1.39498091], dtype=float32)),\n",
       " (array([9954, 8813, 2456]), array([-1.3896054], dtype=float32))]"
      ]
     },
     "execution_count": 44,
     "metadata": {},
     "output_type": "execute_result"
    }
   ],
   "source": [
    "user_not_purchased_list"
   ]
  },
  {
   "cell_type": "markdown",
   "metadata": {},
   "source": [
    "## Trying one advanced feature at a time"
   ]
  },
  {
   "cell_type": "markdown",
   "metadata": {},
   "source": [
    "### Option on how to pass feature"
   ]
  },
  {
   "cell_type": "code",
   "execution_count": 27,
   "metadata": {
    "scrolled": true
   },
   "outputs": [
    {
     "name": "stdout",
     "output_type": "stream",
     "text": [
      "epoch  1\n",
      "train_loss: 0.829616132895 train auc:  0.607384\n",
      "test_loss:  2.15413772258 test auc:  0.643944\n",
      "cold start test_loss:  2.21316434128 cold start auc:  0.387877\n",
      "epoch  2\n",
      "train_loss: 0.715714214288 train auc:  0.685017\n",
      "test_loss:  1.64569370897 test auc:  0.656655\n",
      "cold start test_loss:  1.656178626 cold start auc:  0.384118\n",
      "epoch  3\n",
      "train_loss: 0.658616935019 train auc:  0.71405\n",
      "test_loss:  1.52876920643 test auc:  0.64468\n",
      "cold start test_loss:  1.51073921255 cold start auc:  0.400922\n"
     ]
    }
   ],
   "source": [
    "price_feature = loaded_features['price']\n",
    "pbpr_auc_train, pbpr_auc_test, pbpr_auc_test_cold_start = session_run(NUM_SESSIONS, user_count, item_count, users, items, user_ratings, item_ratings, feature_set([price_feature]))"
   ]
  },
  {
   "cell_type": "markdown",
   "metadata": {},
   "source": [
    "### Another option on passing features"
   ]
  },
  {
   "cell_type": "code",
   "execution_count": 37,
   "metadata": {
    "scrolled": true
   },
   "outputs": [
    {
     "name": "stdout",
     "output_type": "stream",
     "text": [
      "epoch  1\n",
      "train_loss: 0.830902752413 train auc:  0.607079\n",
      "test_loss:  2.16025493944 test auc:  0.648888\n",
      "cold start test_loss:  2.22403252769 cold start auc:  0.393195\n",
      "epoch  2\n",
      "train_loss: 0.715598556543 train auc:  0.688225\n",
      "test_loss:  1.64470055616 test auc:  0.65527\n",
      "cold start test_loss:  1.66921418746 cold start auc:  0.377069\n",
      "epoch  3\n",
      "train_loss: 0.656779765492 train auc:  0.717234\n",
      "test_loss:  1.55524428263 test auc:  0.651319\n",
      "cold start test_loss:  1.52400255177 cold start auc:  0.403854\n"
     ]
    }
   ],
   "source": [
    "pbpr_auc_train, pbpr_auc_test, pbpr_auc_test_cold_start = session_run(NUM_SESSIONS, user_count, item_count, users, items, user_ratings, item_ratings, feature_set([loaded_features['price']]))"
   ]
  },
  {
   "cell_type": "code",
   "execution_count": 30,
   "metadata": {
    "scrolled": false
   },
   "outputs": [
    {
     "name": "stdout",
     "output_type": "stream",
     "text": [
      "epoch  1\n",
      "train_loss: 0.827518086619 train auc:  0.597738\n",
      "test_loss:  2.2317676385 test auc:  0.629432\n",
      "cold start test_loss:  2.33363669403 cold start auc:  0.453707\n",
      "epoch  2\n",
      "train_loss: 0.705710689543 train auc:  0.68918\n",
      "test_loss:  1.85962951267 test auc:  0.679384\n",
      "cold start test_loss:  1.88837678177 cold start auc:  0.470495\n",
      "epoch  3\n",
      "train_loss: 0.614314575975 train auc:  0.752038\n",
      "test_loss:  1.79623830323 test auc:  0.694147\n",
      "cold start test_loss:  1.79986606532 cold start auc:  0.545383\n"
     ]
    }
   ],
   "source": [
    "#passing product category as feature\n",
    "cbpr_auc_train, cbpr_auc_test, cbpr_auc_test_cold_start = session_run(NUM_SESSIONS, user_count, item_count, users, items, user_ratings, item_ratings, feature_set([loaded_features[c] for c in ['top_categories']]))"
   ]
  },
  {
   "cell_type": "code",
   "execution_count": 31,
   "metadata": {
    "scrolled": true
   },
   "outputs": [
    {
     "name": "stdout",
     "output_type": "stream",
     "text": [
      "epoch  1\n",
      "train_loss: 0.837240456428 train auc:  0.60971\n",
      "test_loss:  2.20407429472 test auc:  0.650369\n",
      "cold start test_loss:  2.29155518191 cold start auc:  0.407922\n",
      "epoch  2\n",
      "train_loss: 0.713377670225 train auc:  0.708078\n",
      "test_loss:  1.76293331788 test auc:  0.660646\n",
      "cold start test_loss:  1.79307552856 cold start auc:  0.398737\n",
      "epoch  3\n",
      "train_loss: 0.648763053286 train auc:  0.747655\n",
      "test_loss:  1.66291162534 test auc:  0.666816\n",
      "cold start test_loss:  1.65803871533 cold start auc:  0.422675\n"
     ]
    }
   ],
   "source": [
    "#passing product desc as a feature: this is the bigrams feature_vector\n",
    "pdbpr_auc_train, pdbpr_auc_test, pdbpr_auc_test_cold_start = session_run(NUM_SESSIONS, user_count, item_count, users, items, user_ratings, item_ratings, feature_set([loaded_features[c] for c in ['feature_vector']]))"
   ]
  },
  {
   "cell_type": "code",
   "execution_count": 35,
   "metadata": {
    "scrolled": false
   },
   "outputs": [
    {
     "name": "stdout",
     "output_type": "stream",
     "text": [
      "epoch  1\n",
      "train_loss: 0.833280224576 train auc:  0.615063\n",
      "test_loss:  2.18474108285 test auc:  0.647913\n",
      "cold start test_loss:  2.24914849007 cold start auc:  0.408763\n",
      "epoch  2\n",
      "train_loss: 0.714553151545 train auc:  0.70435\n",
      "test_loss:  1.70278862156 test auc:  0.666644\n",
      "cold start test_loss:  1.71255869129 cold start auc:  0.396407\n",
      "epoch  3\n",
      "train_loss: 0.655783510006 train auc:  0.735874\n",
      "test_loss:  1.56538788365 test auc:  0.672778\n",
      "cold start test_loss:  1.55439485264 cold start auc:  0.396162\n"
     ]
    }
   ],
   "source": [
    "#passing brands_features as a feature\n",
    "bbpr_auc_train, bbpr_auc_test, bbpr_auc_test_cold_start = session_run(NUM_SESSIONS, user_count, item_count, users, items, user_ratings, item_ratings, feature_set([loaded_features[c] for c in ['brand']]))"
   ]
  },
  {
   "cell_type": "markdown",
   "metadata": {},
   "source": [
    "## Price and Category"
   ]
  },
  {
   "cell_type": "code",
   "execution_count": 32,
   "metadata": {
    "scrolled": false
   },
   "outputs": [
    {
     "name": "stdout",
     "output_type": "stream",
     "text": [
      "epoch  1\n",
      "train_loss: 0.828143125299 train auc:  0.598937\n",
      "test_loss:  2.23615914503 test auc:  0.638525\n",
      "cold start test_loss:  2.31392108429 cold start auc:  0.450157\n",
      "epoch  2\n",
      "train_loss: 0.70544805011 train auc:  0.684661\n",
      "test_loss:  1.85579088579 test auc:  0.665891\n",
      "cold start test_loss:  1.87268230956 cold start auc:  0.484567\n",
      "epoch  3\n",
      "train_loss: 0.61626832821 train auc:  0.75067\n",
      "test_loss:  1.77687934893 test auc:  0.707551\n",
      "cold start test_loss:  1.78073018554 cold start auc:  0.553281\n"
     ]
    }
   ],
   "source": [
    "#combining price and product category feature : features you want to pass is always passed as a list\n",
    "pcatbpr_auc_train, pcatbpr_auc_test, pcatbpr_auc_test_cold_start = session_run(NUM_SESSIONS, user_count, item_count, users, items, user_ratings, item_ratings, feature_set([ loaded_features[c] for c in ['price','top_categories']]))"
   ]
  },
  {
   "cell_type": "markdown",
   "metadata": {},
   "source": [
    "## comparing Test AUC vs. number of iterations for different models"
   ]
  },
  {
   "cell_type": "code",
   "execution_count": 33,
   "metadata": {
    "collapsed": true
   },
   "outputs": [],
   "source": [
    "import matplotlib as mpl\n",
    "mpl.style.use('seaborn')"
   ]
  },
  {
   "cell_type": "code",
   "execution_count": 38,
   "metadata": {},
   "outputs": [
    {
     "data": {
      "text/plain": [
       "Text(0.5,0,'Number of Iterations')"
      ]
     },
     "execution_count": 38,
     "metadata": {},
     "output_type": "execute_result"
    },
    {
     "data": {
      "image/png": "[encoded data removed]",
      "text/plain": [
       "<matplotlib.figure.Figure at 0x181b517c50>"
      ]
     },
     "metadata": {},
     "output_type": "display_data"
    }
   ],
   "source": [
    "plt.figure(figsize=(20,10))\n",
    "plt.plot(bpr_auc_test, label = \"BPR\")\n",
    "plt.plot(pbpr_auc_test, label = \"Price-BPR\")\n",
    "plt.plot(cbpr_auc_test,label=\"Product Categories-BPR\")\n",
    "plt.plot(pdbpr_auc_test, label = \"Price Name/Description BPR\")\n",
    "plt.plot(bbpr_auc_test, label = \"Brand-BPR\")\n",
    "plt.plot(pcatbpr_auc_test,label =\"Price & Category-BPR\")\n",
    "plt.legend()\n",
    "plt.ylabel(\"Test AUC\")\n",
    "plt.xlabel(\"Number of Iterations\")\n"
   ]
  },
  {
   "cell_type": "markdown",
   "metadata": {},
   "source": [
    "## comparing Cold Start Test AUC vs. number of iterations for different models"
   ]
  },
  {
   "cell_type": "code",
   "execution_count": 40,
   "metadata": {
    "scrolled": true
   },
   "outputs": [
    {
     "data": {
      "text/plain": [
       "Text(0.5,0,'Number of Iterations')"
      ]
     },
     "execution_count": 40,
     "metadata": {},
     "output_type": "execute_result"
    },
    {
     "data": {
      "image/png": "[encoded data removed]",
      "text/plain": [
       "<matplotlib.figure.Figure at 0x1823717748>"
      ]
     },
     "metadata": {},
     "output_type": "display_data"
    }
   ],
   "source": [
    "plt.figure(figsize=(20,10))\n",
    "plt.plot(bpr_auc_test_cold_start, label = \"BPR\")\n",
    "plt.plot(pbpr_auc_test_cold_start, label = \"Price-BPR\")\n",
    "plt.plot(cbpr_auc_test_cold_start,label=\"Product Categories-BPR\")\n",
    "plt.plot(pdbpr_auc_test_cold_start, label = \"Product Name/Description-BPR\")\n",
    "plt.plot(bbpr_auc_test_cold_start, label = \"Brand-BPR\")\n",
    "plt.plot(pcatbpr_auc_test_cold_start,label =\"Price & Category-BPR\")\n",
    "plt.legend()\n",
    "plt.ylabel(\"Cold Start Test AUC\")\n",
    "plt.xlabel(\"Number of Iterations\")\n"
   ]
  },
  {
   "cell_type": "code",
   "execution_count": null,
   "metadata": {
    "collapsed": true
   },
   "outputs": [],
   "source": [
    "#!pip install line_profiler\n",
    "%load_ext line_profiler"
   ]
  },
  {
   "cell_type": "code",
   "execution_count": 34,
   "metadata": {},
   "outputs": [
    {
     "name": "stderr",
     "output_type": "stream",
     "text": [
      "UsageError: Could not find function 'session_run(NUM_SESSIONS,'.\n",
      "SyntaxError: unexpected EOF while parsing (<string>, line 1)\n"
     ]
    }
   ],
   "source": [
    "%lprun -f session_run(NUM_SESSIONS, user_count, item_count, users, items, user_ratings, item_ratings, feature_set([loaded_features[c] for c in ['top_categories_hotencoded']]))"
   ]
  },
  {
   "cell_type": "markdown",
   "metadata": {},
   "source": [
    "## Writing the results to a CSV file"
   ]
  },
  {
   "cell_type": "code",
   "execution_count": null,
   "metadata": {
    "collapsed": true
   },
   "outputs": [],
   "source": [
    "# import csv\n",
    "# rows = zip(bpr_auc_test, pbpr_auc_test, bbpr_auc_test, pdbpr_auc_test, nvbpr_auc_test, vbpr_auc_test, \n",
    "#            hbpr_auc_test, bpr_auc_test_cold_start, pbpr_auc_test_cold_start, bbpr_auc_test_cold_start,\n",
    "#           pdbpr_auc_test_cold_start, nvbpr_auc_test_cold_start, vbpr_auc_test_cold_start, hbpr_auc_test_cold_start)\n",
    "\n",
    "# with open(\"AUC_5core_Women.csv\", \"wb\") as f:\n",
    "#     writer = csv.writer(f)\n",
    "#     writer.writerow([\"bpr_auc_test\", \"pbpr_auc_test\", \"bbpr_auc_test\", \"pdbpr_auc_test\", \"nvbpr_auc_test\", \n",
    "#                      \"vbpr_auc_test\", \"hbpr_auc_test\", \"bpr_auc_test_cold_start\", \"pbpr_auc_test_cold_start\",\n",
    "#                     \"bbpr_auc_test_cold_start\", \"pdbpr_auc_test_cold_start\", \"nvbpr_auc_test_cold_start\",\n",
    "#                     \"vbpr_auc_test_cold_start\", \"hbpr_auc_test_cold_start\"])\n",
    "#     for row in rows:\n",
    "#         writer.writerow(row)"
   ]
  },
  {
   "cell_type": "code",
   "execution_count": null,
   "metadata": {
    "collapsed": true
   },
   "outputs": [],
   "source": []
  }
 ],
 "metadata": {
  "kernelspec": {
   "display_name": "Python 3",
   "language": "python",
   "name": "python3"
  },
  "language_info": {
   "codemirror_mode": {
    "name": "ipython",
    "version": 3
   },
   "file_extension": ".py",
   "mimetype": "text/x-python",
   "name": "python",
   "nbconvert_exporter": "python",
   "pygments_lexer": "ipython3",
   "version": "3.6.3"
  }
 },
 "nbformat": 4,
 "nbformat_minor": 2
}
