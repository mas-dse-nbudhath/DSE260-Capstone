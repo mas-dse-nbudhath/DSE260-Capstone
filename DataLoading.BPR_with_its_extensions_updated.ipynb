{
 "cells": [
  {
   "cell_type": "markdown",
   "metadata": {},
   "source": [
    "## importing required libraries"
   ]
  },
  {
   "cell_type": "code",
   "execution_count": 1,
   "metadata": {},
   "outputs": [],
   "source": [
    "import pandas as pd\n",
    "import warnings\n",
    "warnings.filterwarnings('ignore')\n",
    "from collections import defaultdict\n",
    "import struct\n",
    "import numpy as np\n",
    "import numpy\n",
    "import random\n",
    "import tensorflow as tf\n",
    "import os\n",
    "import pickle as pickle\n",
    "import matplotlib.pyplot as plt\n",
    "import sys\n",
    "%matplotlib inline"
   ]
  },
  {
   "cell_type": "code",
   "execution_count": 2,
   "metadata": {
    "scrolled": false
   },
   "outputs": [],
   "source": [
    "#this function helps to visualize the dict\n",
    "from itertools import islice\n",
    "\n",
    "def take(n, iterable):\n",
    "    \"Return first n items of the iterable as a list\"\n",
    "    return list(islice(iterable, n))\n",
    "# take(1, prod_desc.values())"
   ]
  },
  {
   "cell_type": "markdown",
   "metadata": {},
   "source": [
    "## procedure to load the data from the json format to rating matrix"
   ]
  },
  {
   "cell_type": "code",
   "execution_count": 3,
   "metadata": {},
   "outputs": [],
   "source": [
    "# load data after creating features\n",
    "def load_data_hybrid(data_path, min_items=2, min_users=2, sampling= True, sample_size = 0.5):\n",
    "    user_ratings = defaultdict(set)\n",
    "    item_ratings = defaultdict(set)\n",
    "    max_u_id = -1\n",
    "    max_i_id = -1\n",
    "    user_count = 0\n",
    "    item_count = 0\n",
    "    reviews = 0\n",
    "    users = {}  # aid to id LUT\n",
    "    items = {}  # asid to id LUT\n",
    "    records = {} # all records\n",
    "    features = {}\n",
    "    random.seed(0)\n",
    "    columns = None\n",
    "    offset_to_features = 3\n",
    "    with open(data_path, 'r') as f:\n",
    "        bad_actor = 0\n",
    "        for line in f.readlines():\n",
    "            record = {}\n",
    "            split_line = line.split(\",\")\n",
    "            if columns is None:\n",
    "                columns = [e.rstrip() for e in split_line]\n",
    "                continue\n",
    "            if (sampling and random.random()>sample_size):\n",
    "                continue\n",
    "            reviews += 1\n",
    "            \n",
    "            if (len(split_line) > len(columns)):\n",
    "                bad_actor = bad_actor + 1\n",
    "                continue\n",
    "            else:\n",
    "                auid, asid, _ = split_line[0:offset_to_features]\n",
    "                record = {columns[i]:split_line[i].rstrip() for i in  range (offset_to_features, len(split_line))}\n",
    "\n",
    "            u, i = None, None\n",
    "\n",
    "            if auid in users:\n",
    "                u = users[auid]\n",
    "            else:\n",
    "                user_count += 1  # new user so increment\n",
    "                users[auid] = user_count\n",
    "                u = user_count\n",
    "            \n",
    "            if asid in items:\n",
    "                i = items[asid]\n",
    "            else:\n",
    "                item_count += 1  # new i so increment\n",
    "                items[asid] = item_count\n",
    "                i = item_count\n",
    "                records[i] = record\n",
    "                if record['price'] == '':\n",
    "                    records[i]['price'] = 0\n",
    "                else:\n",
    "                    records[i]['price'] = float(record['price'])\n",
    "                    \n",
    "                if len(record['feature_vector']) == 0:\n",
    "                    records[i]['feature_vector'] = list(np.zeros(4524))\n",
    "                else:\n",
    "                    records[i]['feature_vector'] = [int(el) for el in list(record['feature_vector'])[:-1][1:]]\n",
    "    \n",
    "                for c in ['feature_vector','top_categories_hotencoded','price_percentile_encoded','season_meteorological_encoded']:\n",
    "                    records[i][c] = [int(el) for el in list(record[c])[:-2][1:]] \n",
    "            \n",
    "            user_ratings[u].add(i)\n",
    "            item_ratings[i].add(u)\n",
    "            max_u_id = max(u, max_u_id)\n",
    "            max_i_id = max(i, max_i_id)\n",
    "            \n",
    "    print (\"max_u_id: \", max_u_id)\n",
    "    print (\"max_i_id: \", max_i_id)\n",
    "    print (\"reviews : \", reviews)\n",
    "\n",
    "\n",
    "    # filter out users w/ less than X reviews\n",
    "    num_u_id = 0\n",
    "    num_i_id = 0\n",
    "    num_reviews = 0\n",
    "    user_ratings_filtered = defaultdict(set)\n",
    "    for u, ids in user_ratings.items():\n",
    "        if len(ids) > min_items:\n",
    "            user_ratings_filtered[u] = ids\n",
    "            num_u_id += 1\n",
    "            num_reviews += len(ids)\n",
    "            \n",
    "    item_ratings_filtered = defaultdict(set)\n",
    "    for ids, u in item_ratings.items():\n",
    "        if len(u) > min_users:\n",
    "            # keep\n",
    "            item_ratings_filtered[ids] = u\n",
    "            num_i_id += 1\n",
    "    \n",
    "    feature_keys = records[1].keys() #should be same as columns[offset:]\n",
    "    features = {k:{i:records[i][k] for i in range(1,len(records)+1)} for k in feature_keys}\n",
    "\n",
    "    print (\"u_id: \", num_u_id)\n",
    "    print (\"i_id: \", num_i_id)\n",
    "    print (\"reviews : \", num_reviews)\n",
    "    #return max_u_id, max_i_id, users, items, user_ratings_filtered,\\\n",
    "    #            item_ratings_filtered, brands, prices, prod_desc, prod_cat,price_feature,season_feature\n",
    "    return max_u_id, max_i_id, users, items, user_ratings_filtered,item_ratings_filtered, features"
   ]
  },
  {
   "cell_type": "markdown",
   "metadata": {},
   "source": [
    "## Procedure to load image features of the products"
   ]
  },
  {
   "cell_type": "code",
   "execution_count": 4,
   "metadata": {},
   "outputs": [],
   "source": [
    "#load image features for the given asin collection into dictionary\n",
    "def load_image_features(path, items):\n",
    "    count=0\n",
    "    image_features = {}\n",
    "    f = open(path, 'rb')\n",
    "    while True:\n",
    "        asin = f.read(10)\n",
    "        if asin == '': break\n",
    "        features_bytes = f.read(16384) # 4 * 4096 = 16KB, fast read, don't unpack\n",
    "  \n",
    "        if asin in items: #only unpack 4096 bytes if w need it -- big speed up\n",
    "            features = (np.fromstring(features_bytes, dtype=np.float32)/58.388599)\n",
    "            iid=items[asin]\n",
    "            if len(features)==0:\n",
    "                image_features[iid] = np.zeros(4096)\n",
    "            else:\n",
    "                image_features[iid] = features\n",
    "    \n",
    "    return image_features"
   ]
  },
  {
   "cell_type": "markdown",
   "metadata": {},
   "source": [
    "## Procedure to uniformly sample the (u,i,j) triplet from the raw data for the train set"
   ]
  },
  {
   "cell_type": "code",
   "execution_count": 5,
   "metadata": {},
   "outputs": [],
   "source": [
    "def uniform_sample_batch(train_ratings, test_ratings, item_count, advanced_features):\n",
    "    neg_items = 2\n",
    "    for u in train_ratings.keys():\n",
    "        t = []\n",
    "        iv = []\n",
    "        jv = []\n",
    "        for i in train_ratings[u]:\n",
    "            if (u in test_ratings.keys()):\n",
    "                if (i != test_ratings[u]):  # make sure it's not in the test set\n",
    "                    for k in range(1,neg_items):\n",
    "                        j = random.randint(1, item_count)\n",
    "                        while j in train_ratings[u]:\n",
    "                            j = random.randint(1, item_count)\n",
    "                        # sometimes there will not be an image for given product\n",
    "                        try:\n",
    "                            advanced_features[i]\n",
    "                            advanced_features[j]\n",
    "                        except KeyError:\n",
    "                            continue\n",
    "                        iv.append(advanced_features[i])\n",
    "                        jv.append(advanced_features[j])\n",
    "                        t.append([u, i, j])\n",
    "            else:\n",
    "                for k in range(1,neg_items):\n",
    "                    j = random.randint(1, item_count)\n",
    "                    while j in train_ratings[u]:\n",
    "                        j = random.randint(1, item_count)\n",
    "                    # sometimes there will not be an image for given product\n",
    "                    try:\n",
    "                        advanced_features[i]\n",
    "                        advanced_features[j]\n",
    "                    except KeyError:\n",
    "                        continue\n",
    "                    iv.append(advanced_features[i])\n",
    "                    jv.append(advanced_features[j])\n",
    "                    t.append([u, i, j])\n",
    "\n",
    "        # block if queue is full\n",
    "        if len(iv)>1:\n",
    "            yield numpy.asarray(t), numpy.vstack(tuple(iv)), numpy.vstack(tuple(jv))\n",
    "        else:\n",
    "            continue"
   ]
  },
  {
   "cell_type": "markdown",
   "metadata": {},
   "source": [
    "## Procedure to uniformly sample the (u,i,j) triplet from the raw data for the test set"
   ]
  },
  {
   "cell_type": "code",
   "execution_count": 6,
   "metadata": {},
   "outputs": [],
   "source": [
    "def test_batch_generator_by_user(train_ratings, test_ratings, item_ratings, item_count, advanced_features, cold_start = False, cold_start_thresh = 5):\n",
    "    # using leave one cv\n",
    "    for u in random.sample(test_ratings.keys(), 4000):\n",
    "    #for u in test_ratings.keys():\n",
    "        i = test_ratings[u]\n",
    "        if (cold_start and len(item_ratings[i]) > cold_start_thresh-1):\n",
    "            continue\n",
    "        t = []\n",
    "        ilist = []\n",
    "        jlist = []\n",
    "        count = 0\n",
    "        for j in random.sample(range(item_count), 100):\n",
    "            # find item not in test[u] and train[u]\n",
    "            if j != test_ratings[u] and not (j in train_ratings[u]):\n",
    "                try:\n",
    "                    advanced_features[i]\n",
    "                    advanced_features[j]\n",
    "                except KeyError:\n",
    "                    continue\n",
    "\n",
    "                count += 1\n",
    "                t.append([u, i, j])\n",
    "                ilist.append(advanced_features[i])\n",
    "                jlist.append(advanced_features[j])\n",
    "\n",
    "        # print numpy.asarray(t).shape\n",
    "        # print numpy.vstack(tuple(ilist)).shape\n",
    "        # print numpy.vstack(tuple(jlist)).shape\n",
    "        if (len(ilist) == 0):\n",
    "            #print \"could not find neg item for user, count: \", count, u\n",
    "            continue\n",
    "        yield numpy.asarray(t), numpy.vstack(tuple(ilist)), numpy.vstack(tuple(jlist))"
   ]
  },
  {
   "cell_type": "markdown",
   "metadata": {},
   "source": [
    "## Procedure to generate the (u,i) pair for the test data"
   ]
  },
  {
   "cell_type": "code",
   "execution_count": 7,
   "metadata": {},
   "outputs": [],
   "source": [
    "def generate_test(user_ratings):\n",
    "    '''\n",
    "    for each user, random select one rating into test set\n",
    "    '''\n",
    "    user_test = dict()\n",
    "    for u, i_list in user_ratings.items():\n",
    "        user_test[u] = random.sample(user_ratings[u], 1)[0]\n",
    "    return user_test"
   ]
  },
  {
   "cell_type": "markdown",
   "metadata": {},
   "source": [
    "## performs transformations and/or necessary hot encoding"
   ]
  },
  {
   "cell_type": "code",
   "execution_count": 8,
   "metadata": {},
   "outputs": [],
   "source": [
    "#user_count, item_count, users, items, user_ratings, item_ratings, brands, prices, prod_desc = load_data_hybrid(data_path, min_items=4, min_users=0, sampling= True, sample_size = 0.8)\n",
    "def transform_features (features):\n",
    "    if 'price' in features:\n",
    "        prices = features['price']\n",
    "\n",
    "        prices_features= {}\n",
    "        prices_all = list(set(prices.values()))\n",
    "        price_quant_level = 10\n",
    "        price_max = float(max(prices.values()))\n",
    "        for key, value in prices.items():\n",
    "            prices_vec = numpy.zeros(price_quant_level+1)\n",
    "            idx = int(numpy.ceil(float(value)/(price_max/price_quant_level)))\n",
    "            prices_vec[idx]=1\n",
    "            prices_features[key] = prices_vec\n",
    "        features['price'] = prices_features\n",
    "    if 'brand' in features:\n",
    "        brands_features = {}\n",
    "        brands = loaded_features['brand']\n",
    "        brands_all = list(set(brands.values()))\n",
    "        for key, value in brands.items():\n",
    "            brands_vec = numpy.zeros(len(brands_all))\n",
    "            brands_vec[brands_all.index(value)] = 1\n",
    "            brands_features[key] = brands_vec\n",
    "        features['brand'] = brands_features\n",
    "        \n",
    "    return features"
   ]
  },
  {
   "cell_type": "markdown",
   "metadata": {},
   "source": [
    "## function to combine features"
   ]
  },
  {
   "cell_type": "code",
   "execution_count": 9,
   "metadata": {},
   "outputs": [],
   "source": [
    "# list of features defined as dicts can be passed and they are combined, if none array of zeros are created\n",
    "\n",
    "def feature_set(feature_dicts=None):\n",
    "    if feature_dicts!=None:\n",
    "        combined_features = defaultdict(list)\n",
    "        for d in feature_dicts:\n",
    "            for k, v in d.items():  \n",
    "                combined_features[k].extend(v)\n",
    "\n",
    "        return dict([(k,v) for k,v in combined_features.items()])\n",
    "    \n",
    "    else:\n",
    "        \n",
    "        return {n: [0] for n in range(1,item_count+1)} #return just zeros dummy advanced features for baseline BPR"
   ]
  },
  {
   "cell_type": "markdown",
   "metadata": {},
   "source": [
    "## Bayesian Personalized Ranking (BPR) Model and it's extensions (VBPR, NVBPR, Hybrid)"
   ]
  },
  {
   "cell_type": "code",
   "execution_count": 10,
   "metadata": {},
   "outputs": [],
   "source": [
    "def abpr(user_count, item_count, advanced_features, hidden_dim=10, hidden_img_dim=10,\n",
    "         l2_regulization=0.1,\n",
    "         bias_regulization=0.01,\n",
    "         embed_regulization = 0,\n",
    "         image_regulization =0.1,\n",
    "         visual_bias_regulization = 0.01):\n",
    "    \"\"\"\n",
    "    user_count: total number of users\n",
    "    item_count: total number of items\n",
    "    hidden_dim: hidden feature size of MF\n",
    "    hidden_img_dim: hidden visual/non-visual feature size of MF\n",
    "    \"\"\"\n",
    "    advanced_feat_dim = len(advanced_features[1])\n",
    "    iv = tf.placeholder(tf.float32, [None, advanced_feat_dim])\n",
    "    jv = tf.placeholder(tf.float32, [None, advanced_feat_dim])\n",
    "    u = tf.placeholder(tf.int32, [None])\n",
    "    i = tf.placeholder(tf.int32, [None])\n",
    "    j = tf.placeholder(tf.int32, [None])\n",
    "    \n",
    "    # model parameters -- LEARN THESE\n",
    "    # latent factors\n",
    "    user_emb_w = tf.get_variable(\"user_emb_w\", [user_count + 1, hidden_dim],\n",
    "                                 initializer=tf.random_normal_initializer(0, 0.1))\n",
    "    item_emb_w = tf.get_variable(\"item_emb_w\", [item_count + 1, hidden_dim],\n",
    "                                 initializer=tf.random_normal_initializer(0, 0.1))\n",
    "    # biases\n",
    "    item_b = tf.get_variable(\"item_b\", [item_count + 1, 1], initializer=tf.constant_initializer(0.0))\n",
    "\n",
    "    # pull out the respective latent factor vectors for a given user u and items i & j\n",
    "    u_emb = tf.nn.embedding_lookup(user_emb_w, u)\n",
    "    i_emb = tf.nn.embedding_lookup(item_emb_w, i)\n",
    "    j_emb = tf.nn.embedding_lookup(item_emb_w, j)\n",
    "    \n",
    "    # get the respective biases for items i & j\n",
    "    i_b = tf.nn.embedding_lookup(item_b, i)\n",
    "    j_b = tf.nn.embedding_lookup(item_b, j)\n",
    "\n",
    "\n",
    "    # MF predict: u_i > u_j\n",
    "   \n",
    "    # UxD visual factors for users\n",
    "    user_img_w = tf.get_variable(\"user_img_w\", [user_count + 1, hidden_img_dim],\n",
    "                             initializer=tf.random_normal_initializer(0, 0.1))\n",
    "    # this is E, the embedding matrix\n",
    "    img_emb_w = tf.get_variable(\"img_emb_w\", [hidden_img_dim, advanced_feat_dim],\n",
    "                            initializer=tf.random_normal_initializer(0, 0.1))\n",
    "\n",
    "    theta_i = tf.matmul(iv, img_emb_w, transpose_b=True)  # (f_i * E), eq. 3\n",
    "    theta_j = tf.matmul(jv, img_emb_w, transpose_b=True)  # (f_j * E), eq. 3\n",
    "\n",
    "    visual_bias = tf.get_variable(\"visual_bias\", [1, advanced_feat_dim], initializer=tf.random_normal_initializer(0, 0.1))\n",
    "    # pull out the visual factor, 1 X D for user u\n",
    "\n",
    "    u_img = tf.nn.embedding_lookup(user_img_w, u)\n",
    "\n",
    "    xui = i_b + tf.reduce_sum(tf.multiply(u_emb, i_emb), 1, keep_dims=True) + tf.reduce_sum(tf.multiply(u_img, theta_i), 1, keep_dims=True) \\\n",
    "                                                                        + tf.reduce_sum(tf.multiply(visual_bias, iv), 1, keep_dims=True) \n",
    "    xuj = j_b + tf.reduce_sum(tf.multiply(u_emb, j_emb), 1, keep_dims=True) + tf.reduce_sum(tf.multiply(u_img, theta_j), 1, keep_dims=True) \\\n",
    "                                                                        + tf.reduce_sum(tf.multiply(visual_bias, jv), 1, keep_dims=True) \n",
    "    l2_norm = tf.add_n([\n",
    "        l2_regulization * tf.reduce_sum(tf.multiply(u_emb, u_emb)),\n",
    "        image_regulization * tf.reduce_sum(tf.multiply(u_img, u_img)),\n",
    "        l2_regulization * tf.reduce_sum(tf.multiply(i_emb, i_emb)),\n",
    "        l2_regulization * tf.reduce_sum(tf.multiply(j_emb, j_emb)),\n",
    "        embed_regulization * tf.reduce_sum(tf.multiply(img_emb_w, img_emb_w)),\n",
    "        bias_regulization * tf.reduce_sum(tf.multiply(i_b, i_b)),\n",
    "        bias_regulization * tf.reduce_sum(tf.multiply(j_b, j_b)),\n",
    "        visual_bias_regulization * tf.reduce_sum(tf.multiply(visual_bias, visual_bias))\n",
    "    ])\n",
    "        \n",
    "    xuij = xui - xuj\n",
    "\n",
    "    auc = tf.reduce_mean(tf.to_float(xuij > 0))\n",
    "    \n",
    "    loss = l2_norm - tf.reduce_mean(tf.log(tf.sigmoid(xuij)))\n",
    "    \n",
    "    train_op = tf.train.AdamOptimizer().minimize(loss)\n",
    "    \n",
    "    return u, i, j, iv, jv, loss, auc, train_op"
   ]
  },
  {
   "cell_type": "markdown",
   "metadata": {},
   "source": [
    "## Procedure to run the end-to-end model (from loading data to training the model and to test the model)"
   ]
  },
  {
   "cell_type": "code",
   "execution_count": 33,
   "metadata": {},
   "outputs": [],
   "source": [
    "def session_run(num_iter, user_count, item_count, users, items, user_ratings, item_ratings, advanced_features):\n",
    "    ### Loading and parsing the review matrix for Women 5-core dataset\n",
    "    auc_train = []\n",
    "    auc_test = []\n",
    "    auc_test_cs = []\n",
    "    #data_path = os.path.join('/Users/nolanthomas/Public/amazon', 'out_topcategories_pricepercentile_seasonmeteorological.csv')\n",
    "    #user_count, item_count, users, items, user_ratings, item_ratings, brands, features = load_data_hybrid(data_path, min_items=4, min_users=0, sampling= True, sample_size = 0.8)\n",
    "    user_ratings_test = generate_test(user_ratings)\n",
    "    with tf.Graph().as_default(), tf.Session() as session:\n",
    "        with tf.variable_scope('abpr'):\n",
    "            u, i, j, iv, jv, loss, auc, train_op = abpr(user_count, item_count, advanced_features)\n",
    "\n",
    "        session.run(tf.global_variables_initializer())\n",
    "        \n",
    "\n",
    "        for epoch in range(1, num_iter+1):\n",
    "            print (\"epoch \", epoch)\n",
    "            _loss_train = 0.0\n",
    "            user_count = 0\n",
    "            auc_train_values = []\n",
    "            for d, _iv, _jv in uniform_sample_batch(user_ratings, user_ratings_test, item_count, advanced_features):\n",
    "                user_count += 1\n",
    "                _loss, _auc, _ = session.run([loss, auc, train_op], feed_dict={u:d[:,0], i:d[:,1], j:d[:,2], iv:_iv, jv:_jv})\n",
    "                _loss_train += _loss\n",
    "                auc_train_values.append(_auc)\n",
    "            print (\"train_loss:\", _loss_train/user_count, \"train auc: \", numpy.mean(auc_train_values))\n",
    "            auc_train.append(numpy.mean(auc_train_values))\n",
    "\n",
    "\n",
    "            auc_values = []\n",
    "            _loss_test = 0.0\n",
    "            user_count = 0\n",
    "            for d, _iv, _jv in test_batch_generator_by_user(user_ratings, user_ratings_test, item_ratings, item_count, advanced_features, cold_start = False):\n",
    "                user_count += 1\n",
    "                _loss, _auc = session.run([loss, auc], feed_dict={u: d[:, 0], i: d[:, 1], j: d[:, 2], iv: _iv, jv: _jv})\n",
    "                _loss_test += _loss\n",
    "                auc_values.append(_auc)\n",
    "            print (\"test_loss: \", _loss_test / user_count, \"test auc: \", numpy.mean(auc_values))\n",
    "            auc_test.append(numpy.mean(auc_values))\n",
    "\n",
    "            auc_values_cs = []\n",
    "            _loss_test_cs = 0.0\n",
    "            user_count = 0\n",
    "            for d, _iv, _jv in test_batch_generator_by_user(user_ratings, user_ratings_test, item_ratings, item_count, advanced_features, cold_start = True, cold_start_thresh = 10):\n",
    "                user_count += 1\n",
    "                _loss, _auc = session.run([loss, auc], feed_dict={u: d[:, 0], i: d[:, 1], j: d[:, 2], iv: _iv, jv: _jv})\n",
    "                _loss_test_cs += _loss\n",
    "                auc_values_cs.append(_auc)\n",
    "            print (\"cold start test_loss: \", _loss_test_cs / user_count, \"cold start auc: \", numpy.mean(auc_values_cs))\n",
    "            auc_test_cs.append(numpy.mean(auc_values_cs))\n",
    "        return auc_train, auc_test, auc_test_cs"
   ]
  },
  {
   "cell_type": "markdown",
   "metadata": {},
   "source": [
    "## Load and make transformations; reuse across sessions\n",
    "#### 1. Load data\n",
    "#### 2. Make transformations\n",
    "#### 3. Run Session"
   ]
  },
  {
   "cell_type": "code",
   "execution_count": 12,
   "metadata": {
    "scrolled": false
   },
   "outputs": [
    {
     "name": "stdout",
     "output_type": "stream",
     "text": [
      "max_u_id:  34506\n",
      "max_i_id:  14765\n",
      "reviews :  144992\n",
      "u_id:  12300\n",
      "i_id:  14765\n",
      "reviews :  84208\n"
     ]
    },
    {
     "data": {
      "text/plain": [
       "1997"
      ]
     },
     "execution_count": 12,
     "metadata": {},
     "output_type": "execute_result"
    }
   ],
   "source": [
    "data_path = os.path.join('/Users/nolanthomas/Public/amazon', 'out_topcategories_pricepercentile_seasonmeteorological.csv')\n",
    "user_count, item_count, users, items, user_ratings, item_ratings, loaded_features   = load_data_hybrid(data_path, min_items=4, min_users=0, sampling= True, sample_size = 0.8)\n",
    "loaded_features = transform_features(loaded_features)\n",
    "len(take(1, loaded_features['brand'].values())[0])"
   ]
  },
  {
   "cell_type": "markdown",
   "metadata": {},
   "source": [
    "Results from prior notebook before modifications\n",
    "* max_u_id:  34506\n",
    "* max_i_id:  14765\n",
    "* reviews :  144992\n",
    "* u_id:  12300\n",
    "* i_id:  14765\n",
    "* reviews :  84208"
   ]
  },
  {
   "cell_type": "markdown",
   "metadata": {},
   "source": [
    "## Running BASELINE BPR with no advanced features at all"
   ]
  },
  {
   "cell_type": "code",
   "execution_count": 24,
   "metadata": {
    "scrolled": false
   },
   "outputs": [
    {
     "name": "stdout",
     "output_type": "stream",
     "text": [
      "epoch  1\n",
      "train_loss: 0.830869392636 train auc:  0.621817\n",
      "test_loss:  2.13729429233 test auc:  0.651222\n",
      "cold start test_loss:  2.20699679475 cold start auc:  0.37633\n",
      "epoch  2\n",
      "train_loss: 0.715655924603 train auc:  0.695362\n",
      "test_loss:  1.60563380416 test auc:  0.650458\n",
      "cold start test_loss:  1.61602805669 cold start auc:  0.363721\n",
      "epoch  3\n",
      "train_loss: 0.662617552792 train auc:  0.709556\n",
      "test_loss:  1.37871763399 test auc:  0.65465\n",
      "cold start test_loss:  1.35833179544 cold start auc:  0.368045\n"
     ]
    }
   ],
   "source": [
    "# feature_set() is called without arguments\n",
    "bpr_auc_train, bpr_auc_test, bpr_auc_test_cold_start = session_run(NUM_SESSIONS, user_count, item_count, users, items, user_ratings, item_ratings,feature_set())"
   ]
  },
  {
   "cell_type": "markdown",
   "metadata": {},
   "source": [
    "## Trying one advanced feature at a time"
   ]
  },
  {
   "cell_type": "markdown",
   "metadata": {},
   "source": [
    "### Option on how to pass feature"
   ]
  },
  {
   "cell_type": "code",
   "execution_count": 14,
   "metadata": {
    "scrolled": true
   },
   "outputs": [
    {
     "name": "stdout",
     "output_type": "stream",
     "text": [
      "epoch  1\n",
      "train_loss: 0.829307674644 train auc:  0.6092\n",
      "test_loss:  2.14851935075 test auc:  0.655476\n",
      "cold start test_loss:  2.22892408377 cold start auc:  0.388171\n",
      "epoch  2\n",
      "train_loss: 0.714799625311 train auc:  0.686845\n",
      "test_loss:  1.63396886347 test auc:  0.660708\n",
      "cold start test_loss:  1.6540036804 cold start auc:  0.381898\n",
      "epoch  3\n",
      "train_loss: 0.658199580901 train auc:  0.7154\n",
      "test_loss:  1.50903911418 test auc:  0.655496\n",
      "cold start test_loss:  1.48532178023 cold start auc:  0.406213\n"
     ]
    }
   ],
   "source": [
    "NUM_SESSIONS = 3\n",
    "\n",
    "price_feature = loaded_features['price']\n",
    "pbpr_auc_train, pbpr_auc_test, pbpr_auc_test_cold_start = session_run(NUM_SESSIONS, user_count, item_count, users, items, user_ratings, item_ratings, feature_set([price_feature]))"
   ]
  },
  {
   "cell_type": "markdown",
   "metadata": {},
   "source": [
    "### Another option on passing features"
   ]
  },
  {
   "cell_type": "code",
   "execution_count": 15,
   "metadata": {},
   "outputs": [
    {
     "name": "stdout",
     "output_type": "stream",
     "text": [
      "epoch  1\n",
      "train_loss: 0.829388213836 train auc:  0.61062\n",
      "test_loss:  2.13831138471 test auc:  0.643846\n",
      "cold start test_loss:  2.20781980737 cold start auc:  0.403563\n",
      "epoch  2\n",
      "train_loss: 0.714132271453 train auc:  0.690763\n",
      "test_loss:  1.63799682888 test auc:  0.654921\n",
      "cold start test_loss:  1.66400633323 cold start auc:  0.387663\n",
      "epoch  3\n",
      "train_loss: 0.655635385043 train auc:  0.716341\n",
      "test_loss:  1.52665222916 test auc:  0.666423\n",
      "cold start test_loss:  1.51194385001 cold start auc:  0.400375\n"
     ]
    }
   ],
   "source": [
    "pbpr_auc_train, pbpr_auc_test, pbpr_auc_test_cold_start = session_run(NUM_SESSIONS, user_count, item_count, users, items, user_ratings, item_ratings, feature_set([loaded_features['price']]))"
   ]
  },
  {
   "cell_type": "code",
   "execution_count": 16,
   "metadata": {
    "scrolled": true
   },
   "outputs": [
    {
     "name": "stdout",
     "output_type": "stream",
     "text": [
      "epoch  1\n",
      "train_loss: 0.828661618899 train auc:  0.600166\n",
      "test_loss:  2.23564011514 test auc:  0.652639\n",
      "cold start test_loss:  2.3138395741 cold start auc:  0.45475\n",
      "epoch  2\n",
      "train_loss: 0.708361209745 train auc:  0.68493\n",
      "test_loss:  1.84832430671 test auc:  0.669672\n",
      "cold start test_loss:  1.87465499138 cold start auc:  0.464387\n",
      "epoch  3\n",
      "train_loss: 0.625313406476 train auc:  0.74673\n",
      "test_loss:  1.77835095003 test auc:  0.703274\n",
      "cold start test_loss:  1.77127248277 cold start auc:  0.546053\n"
     ]
    }
   ],
   "source": [
    "#passing product category as feature\n",
    "cbpr_auc_train, cbpr_auc_test, cbpr_auc_test_cold_start = session_run(NUM_SESSIONS, user_count, item_count, users, items, user_ratings, item_ratings, feature_set([loaded_features[c] for c in ['top_categories_hotencoded']]))"
   ]
  },
  {
   "cell_type": "code",
   "execution_count": 17,
   "metadata": {
    "scrolled": false
   },
   "outputs": [
    {
     "name": "stdout",
     "output_type": "stream",
     "text": [
      "epoch  1\n",
      "train_loss: 0.837310830267 train auc:  0.61125\n",
      "test_loss:  2.2038413668 test auc:  0.641845\n",
      "cold start test_loss:  2.28498003637 cold start auc:  0.403959\n",
      "epoch  2\n",
      "train_loss: 0.71294277605 train auc:  0.70884\n",
      "test_loss:  1.77391110037 test auc:  0.662451\n",
      "cold start test_loss:  1.80110791656 cold start auc:  0.393322\n",
      "epoch  3\n",
      "train_loss: 0.646260564085 train auc:  0.753838\n",
      "test_loss:  1.67932536618 test auc:  0.676351\n",
      "cold start test_loss:  1.67757528018 cold start auc:  0.410299\n"
     ]
    }
   ],
   "source": [
    "#passing product desc as a feature: this is the bigrams feature_vector\n",
    "pdbpr_auc_train, pdbpr_auc_test, pdbpr_auc_test_cold_start = session_run(NUM_SESSIONS, user_count, item_count, users, items, user_ratings, item_ratings, feature_set([loaded_features[c] for c in ['feature_vector']]))"
   ]
  },
  {
   "cell_type": "code",
   "execution_count": 22,
   "metadata": {
    "scrolled": true
   },
   "outputs": [
    {
     "name": "stdout",
     "output_type": "stream",
     "text": [
      "epoch  1\n",
      "train_loss: 0.832408964867 train auc:  0.617335\n",
      "test_loss:  2.16998555985 test auc:  0.650979\n",
      "cold start test_loss:  2.24564994418 cold start auc:  0.397296\n",
      "epoch  2\n",
      "train_loss: 0.712925567494 train auc:  0.707151\n",
      "test_loss:  1.69419200072 test auc:  0.667307\n",
      "cold start test_loss:  1.70534827041 cold start auc:  0.391401\n",
      "epoch  3\n",
      "train_loss: 0.65359680201 train auc:  0.73867\n",
      "test_loss:  1.58647619815 test auc:  0.674297\n",
      "cold start test_loss:  1.56630749173 cold start auc:  0.413734\n"
     ]
    }
   ],
   "source": [
    "#passing brands_features as a feature\n",
    "bbpr_auc_train, bbpr_auc_test, bbpr_auc_test_cold_start = session_run(NUM_SESSIONS, user_count, item_count, users, items, user_ratings, item_ratings, feature_set([loaded_features[c] for c in ['brand']]))"
   ]
  },
  {
   "cell_type": "markdown",
   "metadata": {},
   "source": [
    "## Price and Category"
   ]
  },
  {
   "cell_type": "code",
   "execution_count": 23,
   "metadata": {
    "scrolled": false
   },
   "outputs": [
    {
     "name": "stdout",
     "output_type": "stream",
     "text": [
      "epoch  1\n",
      "train_loss: 0.826951875735 train auc:  0.602382\n",
      "test_loss:  2.24610992871 test auc:  0.630927\n",
      "cold start test_loss:  2.33012616552 cold start auc:  0.463295\n",
      "epoch  2\n",
      "train_loss: 0.707121596974 train auc:  0.685104\n",
      "test_loss:  1.8602862628 test auc:  0.667113\n",
      "cold start test_loss:  1.88173220218 cold start auc:  0.473608\n",
      "epoch  3\n",
      "train_loss: 0.62112385553 train auc:  0.747569\n",
      "test_loss:  1.79189292276 test auc:  0.705878\n",
      "cold start test_loss:  1.75810838975 cold start auc:  0.565007\n"
     ]
    }
   ],
   "source": [
    "#combining price and product category feature : features you want to pass is always passed as a list\n",
    "pcatbpr_auc_train, pcatbpr_auc_test, pcatbpr_auc_test_cold_start = session_run(NUM_SESSIONS, user_count, item_count, users, items, user_ratings, item_ratings, feature_set([ loaded_features[c] for c in ['price','top_categories_hotencoded']]))"
   ]
  },
  {
   "cell_type": "markdown",
   "metadata": {},
   "source": [
    "## comparing Test AUC vs. number of iterations for different models"
   ]
  },
  {
   "cell_type": "code",
   "execution_count": 25,
   "metadata": {},
   "outputs": [],
   "source": [
    "import matplotlib as mpl\n",
    "mpl.style.use('seaborn')"
   ]
  },
  {
   "cell_type": "code",
   "execution_count": 27,
   "metadata": {},
   "outputs": [
    {
     "data": {
      "text/plain": [
       "Text(0.5,0,'Number of Iterations')"
      ]
     },
     "execution_count": 27,
     "metadata": {},
     "output_type": "execute_result"
    },
    {
     "data": {
      "image/png": "[encoded data removed]",
      "text/plain": [
       "<matplotlib.figure.Figure at 0x1814935278>"
      ]
     },
     "metadata": {},
     "output_type": "display_data"
    }
   ],
   "source": [
    "plt.figure(figsize=(20,10))\n",
    "plt.plot(bpr_auc_test, label = \"BPR\")\n",
    "plt.plot(pbpr_auc_test, label = \"Price-BPR\")\n",
    "plt.plot(cbpr_auc_test,label=\"Product Categories-BPR\")\n",
    "plt.plot(pdbpr_auc_test, label = \"Price Name/Description BPR\")\n",
    "plt.plot(bbpr_auc_test, label = \"Brand-BPR\")\n",
    "plt.plot(pcatbpr_auc_test,label =\"Price & Category-BPR\")\n",
    "plt.legend()\n",
    "plt.ylabel(\"Test AUC\")\n",
    "plt.xlabel(\"Number of Iterations\")\n"
   ]
  },
  {
   "cell_type": "markdown",
   "metadata": {},
   "source": [
    "## comparing Cold Start Test AUC vs. number of iterations for different models"
   ]
  },
  {
   "cell_type": "code",
   "execution_count": 29,
   "metadata": {},
   "outputs": [
    {
     "data": {
      "text/plain": [
       "Text(0.5,0,'Number of Iterations')"
      ]
     },
     "execution_count": 29,
     "metadata": {},
     "output_type": "execute_result"
    },
    {
     "data": {
      "image/png": "[encoded data removed]",
      "text/plain": [
       "<matplotlib.figure.Figure at 0x1814e5cfd0>"
      ]
     },
     "metadata": {},
     "output_type": "display_data"
    }
   ],
   "source": [
    "plt.figure(figsize=(20,10))\n",
    "plt.plot(bpr_auc_test_cold_start, label = \"BPR\")\n",
    "plt.plot(pbpr_auc_test_cold_start, label = \"Price-BPR\")\n",
    "plt.plot(cbpr_auc_test_cold_start,label=\"Product Categories-BPR\")\n",
    "plt.plot(pdbpr_auc_test_cold_start, label = \"Product Name/Description-BPR\")\n",
    "plt.plot(bbpr_auc_test_cold_start, label = \"Brand-BPR\")\n",
    "plt.plot(pcatbpr_auc_test_cold_start,label =\"Price & Category-BPR\")\n",
    "plt.legend()\n",
    "plt.ylabel(\"Cold Start Test AUC\")\n",
    "plt.xlabel(\"Number of Iterations\")\n"
   ]
  },
  {
   "cell_type": "code",
   "execution_count": null,
   "metadata": {},
   "outputs": [],
   "source": [
    "#!pip install line_profiler\n",
    "%load_ext line_profiler"
   ]
  },
  {
   "cell_type": "code",
   "execution_count": 34,
   "metadata": {},
   "outputs": [
    {
     "name": "stderr",
     "output_type": "stream",
     "text": [
      "UsageError: Could not find function 'session_run(NUM_SESSIONS,'.\n",
      "SyntaxError: unexpected EOF while parsing (<string>, line 1)\n"
     ]
    }
   ],
   "source": [
    "%lprun -f session_run(NUM_SESSIONS, user_count, item_count, users, items, user_ratings, item_ratings, feature_set([loaded_features[c] for c in ['top_categories_hotencoded']]))"
   ]
  },
  {
   "cell_type": "markdown",
   "metadata": {},
   "source": [
    "## Writing the results to a CSV file"
   ]
  },
  {
   "cell_type": "code",
   "execution_count": null,
   "metadata": {},
   "outputs": [],
   "source": [
    "# import csv\n",
    "# rows = zip(bpr_auc_test, pbpr_auc_test, bbpr_auc_test, pdbpr_auc_test, nvbpr_auc_test, vbpr_auc_test, \n",
    "#            hbpr_auc_test, bpr_auc_test_cold_start, pbpr_auc_test_cold_start, bbpr_auc_test_cold_start,\n",
    "#           pdbpr_auc_test_cold_start, nvbpr_auc_test_cold_start, vbpr_auc_test_cold_start, hbpr_auc_test_cold_start)\n",
    "\n",
    "# with open(\"AUC_5core_Women.csv\", \"wb\") as f:\n",
    "#     writer = csv.writer(f)\n",
    "#     writer.writerow([\"bpr_auc_test\", \"pbpr_auc_test\", \"bbpr_auc_test\", \"pdbpr_auc_test\", \"nvbpr_auc_test\", \n",
    "#                      \"vbpr_auc_test\", \"hbpr_auc_test\", \"bpr_auc_test_cold_start\", \"pbpr_auc_test_cold_start\",\n",
    "#                     \"bbpr_auc_test_cold_start\", \"pdbpr_auc_test_cold_start\", \"nvbpr_auc_test_cold_start\",\n",
    "#                     \"vbpr_auc_test_cold_start\", \"hbpr_auc_test_cold_start\"])\n",
    "#     for row in rows:\n",
    "#         writer.writerow(row)"
   ]
  },
  {
   "cell_type": "code",
   "execution_count": null,
   "metadata": {},
   "outputs": [],
   "source": []
  }
 ],
 "metadata": {
  "kernelspec": {
   "display_name": "Python 3",
   "language": "python",
   "name": "python3"
  },
  "language_info": {
   "codemirror_mode": {
    "name": "ipython",
    "version": 3
   },
   "file_extension": ".py",
   "mimetype": "text/x-python",
   "name": "python",
   "nbconvert_exporter": "python",
   "pygments_lexer": "ipython3",
   "version": "3.6.3"
  }
 },
 "nbformat": 4,
 "nbformat_minor": 2
}
