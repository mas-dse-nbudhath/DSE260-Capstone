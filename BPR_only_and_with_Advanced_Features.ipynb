{
 "cells": [
  {
   "cell_type": "markdown",
   "metadata": {},
   "source": [
    "## importing required libraries"
   ]
  },
  {
   "cell_type": "code",
   "execution_count": 3,
   "metadata": {
    "collapsed": true
   },
   "outputs": [],
   "source": [
    "import pandas as pd\n",
    "import warnings\n",
    "warnings.filterwarnings('ignore')\n",
    "from collections import defaultdict\n",
    "import os\n",
    "import struct\n",
    "import numpy as np\n",
    "import random"
   ]
  },
  {
   "cell_type": "markdown",
   "metadata": {},
   "source": [
    "## procedure to load the data from the json format to rating matrix"
   ]
  },
  {
   "cell_type": "code",
   "execution_count": 4,
   "metadata": {
    "collapsed": true
   },
   "outputs": [],
   "source": [
    "# load data after creating features\n",
    "def load_data_hybrid(data_path, min_items=2, min_users=2, sampling= True, sample_size = 0.5):\n",
    "    user_ratings = defaultdict(set)\n",
    "    item_ratings = defaultdict(set)\n",
    "    max_u_id = -1\n",
    "    max_i_id = -1\n",
    "    user_count = 0\n",
    "    item_count = 0\n",
    "    reviews = 0\n",
    "    users = {}  # aid to id LUT\n",
    "    items = {}  # asid to id LUT\n",
    "    brands = {}\n",
    "    prices = {}\n",
    "    prod_desc = {}\n",
    "    random.seed(0)\n",
    "    with open(data_path, 'r') as f:\n",
    "        bad_actor = 0\n",
    "        for line in f.readlines()[1:]:\n",
    "            if (sampling and random.random()>sample_size):\n",
    "                continue\n",
    "            reviews += 1\n",
    "            num_fields = len(line.split(\",\"))\n",
    "            if (num_fields==6):\n",
    "                auid, asid, _, brand, price, product_desc = line.split(\",\")\n",
    "            elif (num_fields==5):\n",
    "                auid, asid, _, brand, price = line.split(\",\")\n",
    "            else:\n",
    "                bad_actor = bad_actor + 1\n",
    "#                 print (\"BAD[\" + str(bad_actor) + \"]\" + line)\n",
    "                continue \n",
    "\n",
    "            u, i = None, None\n",
    "\n",
    "            if auid in users:\n",
    "                u = users[auid]\n",
    "            else:\n",
    "                user_count += 1  # new user so increment\n",
    "                users[auid] = user_count\n",
    "                u = user_count\n",
    "            \n",
    "            if asid in items:\n",
    "                i = items[asid]\n",
    "            else:\n",
    "                item_count += 1  # new i so increment\n",
    "                items[asid] = item_count\n",
    "                i = item_count\n",
    "                brands[i] = brand\n",
    "                if (price=='' or price=='\\r\\n' or price=='\\n'):\n",
    "                    prices[i] = 0\n",
    "                else:\n",
    "                    prices[i] = float(price.rstrip())\n",
    "                if (len(line.split(\",\")) == 6):\n",
    "                    prod_desc[i] = [int(el) for el in list(product_desc)[:-1][1:]]\n",
    "                    if (len(prod_desc[i])==0):\n",
    "                        prod_desc[i] = list(np.zeros(4525))\n",
    "            \n",
    "            user_ratings[u].add(i)\n",
    "            item_ratings[i].add(u)\n",
    "            max_u_id = max(u, max_u_id)\n",
    "            max_i_id = max(i, max_i_id)\n",
    "            \n",
    "    print (\"max_u_id: \", max_u_id)\n",
    "    print (\"max_i_id: \", max_i_id)\n",
    "    print (\"reviews : \", reviews)\n",
    "#     print(user_ratings)\n",
    "#     print(item_ratings)\n",
    "    \n",
    "       \n",
    "\n",
    "    # filter out users w/ less than X reviews\n",
    "    num_u_id = 0\n",
    "    num_i_id = 0\n",
    "    num_reviews = 0\n",
    "    user_ratings_filtered = defaultdict(set)\n",
    "    for u, ids in user_ratings.items():\n",
    "        if len(ids) > min_items:\n",
    "            # keep\n",
    "            user_ratings_filtered[u] = ids\n",
    "            num_u_id += 1\n",
    "            num_reviews += len(ids)\n",
    "            \n",
    "    item_ratings_filtered = defaultdict(set)\n",
    "    for ids, u in item_ratings.items():\n",
    "        if len(u) > min_users:\n",
    "            # keep\n",
    "            item_ratings_filtered[ids] = u\n",
    "            num_i_id += 1\n",
    "\n",
    "\n",
    "    print (\"u_id: \", num_u_id)\n",
    "    print (\"i_id: \", num_i_id)\n",
    "    print (\"reviews : \", num_reviews)\n",
    "    return max_u_id, max_i_id, users, items, user_ratings_filtered, item_ratings_filtered, brands, prices, prod_desc"
   ]
  },
  {
   "cell_type": "markdown",
   "metadata": {},
   "source": [
    "## LOAD DATA and verify it works properly before passing to session_run function later"
   ]
  },
  {
   "cell_type": "code",
   "execution_count": 20,
   "metadata": {
    "scrolled": false
   },
   "outputs": [
    {
     "name": "stdout",
     "output_type": "stream",
     "text": [
      "max_u_id:  34497\n",
      "max_i_id:  14764\n",
      "reviews :  144992\n",
      "u_id:  12349\n",
      "i_id:  14764\n",
      "reviews :  84394\n"
     ]
    }
   ],
   "source": [
    "data_path = os.path.join('', 'reviews_Women_scraped_cpp_fv.csv')\n",
    "user_count, item_count, users, items, user_ratings, item_ratings, brands, prices, prod_desc = load_data_hybrid(data_path, min_items=4, min_users=0, sampling= True, sample_size = 0.8)"
   ]
  },
  {
   "cell_type": "code",
   "execution_count": null,
   "metadata": {
    "collapsed": true
   },
   "outputs": [],
   "source": [
    "prod_desc"
   ]
  },
  {
   "cell_type": "markdown",
   "metadata": {},
   "source": [
    "## Procedure to load image features of the products"
   ]
  },
  {
   "cell_type": "code",
   "execution_count": 5,
   "metadata": {
    "collapsed": true
   },
   "outputs": [],
   "source": [
    "#load image features for the given asin collection into dictionary\n",
    "def load_image_features(path, items):\n",
    "    count=0\n",
    "    image_features = {}\n",
    "    f = open(path, 'rb')\n",
    "    while True:\n",
    "        asin = f.read(10)\n",
    "        if asin == '': break\n",
    "        features_bytes = f.read(16384) # 4 * 4096 = 16KB, fast read, don't unpack\n",
    "  \n",
    "        if asin in items: #only unpack 4096 bytes if w need it -- big speed up\n",
    "            features = (np.fromstring(features_bytes, dtype=np.float32)/58.388599)\n",
    "            iid=items[asin]\n",
    "            if len(features)==0:\n",
    "                image_features[iid] = np.zeros(4096)\n",
    "            else:\n",
    "                image_features[iid] = features\n",
    "    \n",
    "    return image_features"
   ]
  },
  {
   "cell_type": "markdown",
   "metadata": {},
   "source": [
    "## Procedure to uniformly sample the (u,i,j) triplet from the raw data for the train set"
   ]
  },
  {
   "cell_type": "code",
   "execution_count": 6,
   "metadata": {
    "collapsed": true
   },
   "outputs": [],
   "source": [
    "import tensorflow as tf\n",
    "import os\n",
    "import pickle as pickle\n",
    "import numpy\n",
    "import random\n",
    "import matplotlib.pyplot as plt\n",
    "import sys\n",
    "import matplotlib.pyplot as plt\n",
    "%matplotlib inline\n",
    "\n",
    "def uniform_sample_batch(train_ratings, test_ratings, item_count, advanced_features):\n",
    "    neg_items = 2\n",
    "    for u in train_ratings.keys():\n",
    "        t = []\n",
    "        iv = []\n",
    "        jv = []\n",
    "        for i in train_ratings[u]:\n",
    "            if (u in test_ratings.keys()):\n",
    "                if (i != test_ratings[u]):  # make sure it's not in the test set\n",
    "                    for k in range(1,neg_items):\n",
    "                        j = random.randint(1, item_count)\n",
    "                        while j in train_ratings[u]:\n",
    "                            j = random.randint(1, item_count)\n",
    "                        # sometimes there will not be an image for given product\n",
    "                        try:\n",
    "                            advanced_features[i]\n",
    "                            advanced_features[j]\n",
    "                        except KeyError:\n",
    "                            continue\n",
    "                        iv.append(advanced_features[i])\n",
    "                        jv.append(advanced_features[j])\n",
    "                        t.append([u, i, j])\n",
    "            else:\n",
    "                for k in range(1,neg_items):\n",
    "                    j = random.randint(1, item_count)\n",
    "                    while j in train_ratings[u]:\n",
    "                        j = random.randint(1, item_count)\n",
    "                    # sometimes there will not be an image for given product\n",
    "                    try:\n",
    "                        advanced_features[i]\n",
    "                        advanced_features[j]\n",
    "                    except KeyError:\n",
    "                        continue\n",
    "                    iv.append(advanced_features[i])\n",
    "                    jv.append(advanced_features[j])\n",
    "                    t.append([u, i, j])\n",
    "\n",
    "        # block if queue is full\n",
    "        if len(iv)>1:\n",
    "            yield numpy.asarray(t), numpy.vstack(tuple(iv)), numpy.vstack(tuple(jv))\n",
    "        else:\n",
    "            continue"
   ]
  },
  {
   "cell_type": "markdown",
   "metadata": {},
   "source": [
    "## Procedure to uniformly sample the (u,i,j) triplet from the raw data for the test set"
   ]
  },
  {
   "cell_type": "code",
   "execution_count": 7,
   "metadata": {
    "collapsed": true
   },
   "outputs": [],
   "source": [
    "def test_batch_generator_by_user(train_ratings, test_ratings, item_ratings, item_count, advanced_features, cold_start = False, cold_start_thresh = 5):\n",
    "    # using leave one cv\n",
    "    for u in random.sample(test_ratings.keys(), 4000):\n",
    "    #for u in test_ratings.keys():\n",
    "        i = test_ratings[u]\n",
    "        if (cold_start and len(item_ratings[i]) > cold_start_thresh-1):\n",
    "            continue\n",
    "        t = []\n",
    "        ilist = []\n",
    "        jlist = []\n",
    "        count = 0\n",
    "        for j in random.sample(range(item_count), 100):\n",
    "            # find item not in test[u] and train[u]\n",
    "            if j != test_ratings[u] and not (j in train_ratings[u]):\n",
    "                try:\n",
    "                    advanced_features[i]\n",
    "                    advanced_features[j]\n",
    "                except KeyError:\n",
    "                    continue\n",
    "\n",
    "                count += 1\n",
    "                t.append([u, i, j])\n",
    "                ilist.append(advanced_features[i])\n",
    "                jlist.append(advanced_features[j])\n",
    "\n",
    "        # print numpy.asarray(t).shape\n",
    "        # print numpy.vstack(tuple(ilist)).shape\n",
    "        # print numpy.vstack(tuple(jlist)).shape\n",
    "        if (len(ilist) == 0):\n",
    "            #print \"could not find neg item for user, count: \", count, u\n",
    "            continue\n",
    "        yield numpy.asarray(t), numpy.vstack(tuple(ilist)), numpy.vstack(tuple(jlist))"
   ]
  },
  {
   "cell_type": "markdown",
   "metadata": {},
   "source": [
    "## Procedure to generate the (u,i) pair for the test data"
   ]
  },
  {
   "cell_type": "code",
   "execution_count": 8,
   "metadata": {
    "collapsed": true
   },
   "outputs": [],
   "source": [
    "def generate_test(user_ratings):\n",
    "    '''\n",
    "    for each user, random select one rating into test set\n",
    "    '''\n",
    "    user_test = dict()\n",
    "    for u, i_list in user_ratings.items():\n",
    "        user_test[u] = random.sample(user_ratings[u], 1)[0]\n",
    "    return user_test"
   ]
  },
  {
   "cell_type": "markdown",
   "metadata": {},
   "source": [
    "## Bayesian Personalized Ranking (BPR) Model and it's extensions (VBPR, NVBPR, Hybrid)"
   ]
  },
  {
   "cell_type": "code",
   "execution_count": 9,
   "metadata": {
    "collapsed": true
   },
   "outputs": [],
   "source": [
    "def abpr(user_count, item_count, advanced_features, bpr_extension, hidden_dim=10, hidden_img_dim=10,\n",
    "         l2_regulization=0.1,\n",
    "         bias_regulization=0.01,\n",
    "         embed_regulization = 0,\n",
    "         image_regulization =0.1,\n",
    "         visual_bias_regulization = 0.01):\n",
    "    \"\"\"\n",
    "    user_count: total number of users\n",
    "    item_count: total number of items\n",
    "    hidden_dim: hidden feature size of MF\n",
    "    hidden_img_dim: hidden visual/non-visual feature size of MF\n",
    "    \"\"\"\n",
    "  \n",
    "    advanced_feat_dim = len(advanced_features[1])\n",
    "    iv = tf.placeholder(tf.float32, [None, advanced_feat_dim])\n",
    "    jv = tf.placeholder(tf.float32, [None, advanced_feat_dim])\n",
    "    \n",
    "    u = tf.placeholder(tf.int32, [None])\n",
    "    i = tf.placeholder(tf.int32, [None])\n",
    "    j = tf.placeholder(tf.int32, [None])\n",
    "\n",
    "\n",
    "  \n",
    "\n",
    "    \n",
    "    # model parameters -- LEARN THESE\n",
    "    # latent factors\n",
    "    user_emb_w = tf.get_variable(\"user_emb_w\", [user_count + 1, hidden_dim],\n",
    "                                 initializer=tf.random_normal_initializer(0, 0.1))\n",
    "    item_emb_w = tf.get_variable(\"item_emb_w\", [item_count + 1, hidden_dim],\n",
    "                                 initializer=tf.random_normal_initializer(0, 0.1))\n",
    "    # biases\n",
    "    item_b = tf.get_variable(\"item_b\", [item_count + 1, 1], initializer=tf.constant_initializer(0.0))\n",
    "\n",
    "    # pull out the respective latent factor vectors for a given user u and items i & j\n",
    "    u_emb = tf.nn.embedding_lookup(user_emb_w, u)\n",
    "    i_emb = tf.nn.embedding_lookup(item_emb_w, i)\n",
    "    j_emb = tf.nn.embedding_lookup(item_emb_w, j)\n",
    "    \n",
    "    # get the respective biases for items i & j\n",
    "    i_b = tf.nn.embedding_lookup(item_b, i)\n",
    "    j_b = tf.nn.embedding_lookup(item_b, j)\n",
    "\n",
    "\n",
    "    # MF predict: u_i > u_j\n",
    "   \n",
    "    \n",
    "    if bpr_extension:\n",
    "        # UxD visual factors for users\n",
    "        user_img_w = tf.get_variable(\"user_img_w\", [user_count + 1, hidden_img_dim],\n",
    "                                 initializer=tf.random_normal_initializer(0, 0.1))\n",
    "        # this is E, the embedding matrix\n",
    "        img_emb_w = tf.get_variable(\"img_emb_w\", [hidden_img_dim, advanced_feat_dim],\n",
    "                                initializer=tf.random_normal_initializer(0, 0.1))\n",
    "        \n",
    "        theta_i = tf.matmul(iv, img_emb_w, transpose_b=True)  # (f_i * E), eq. 3\n",
    "        theta_j = tf.matmul(jv, img_emb_w, transpose_b=True)  # (f_j * E), eq. 3\n",
    "\n",
    "        visual_bias = tf.get_variable(\"visual_bias\", [1, advanced_feat_dim], initializer=tf.random_normal_initializer(0, 0.1))\n",
    "        # pull out the visual factor, 1 X D for user u\n",
    "        \n",
    "        u_img = tf.nn.embedding_lookup(user_img_w, u)\n",
    "        \n",
    "        xui = i_b + tf.reduce_sum(tf.multiply(u_emb, i_emb), 1, keep_dims=True) + tf.reduce_sum(tf.multiply(u_img, theta_i), 1, keep_dims=True) \\\n",
    "                                                                            + tf.reduce_sum(tf.multiply(visual_bias, iv), 1, keep_dims=True) \n",
    "        xuj = j_b + tf.reduce_sum(tf.multiply(u_emb, j_emb), 1, keep_dims=True) + tf.reduce_sum(tf.multiply(u_img, theta_j), 1, keep_dims=True) \\\n",
    "                                                                            + tf.reduce_sum(tf.multiply(visual_bias, jv), 1, keep_dims=True) \n",
    "        l2_norm = tf.add_n([\n",
    "            l2_regulization * tf.reduce_sum(tf.multiply(u_emb, u_emb)),\n",
    "            image_regulization * tf.reduce_sum(tf.multiply(u_img, u_img)),\n",
    "            l2_regulization * tf.reduce_sum(tf.multiply(i_emb, i_emb)),\n",
    "            l2_regulization * tf.reduce_sum(tf.multiply(j_emb, j_emb)),\n",
    "            embed_regulization * tf.reduce_sum(tf.multiply(img_emb_w, img_emb_w)),\n",
    "            bias_regulization * tf.reduce_sum(tf.multiply(i_b, i_b)),\n",
    "            bias_regulization * tf.reduce_sum(tf.multiply(j_b, j_b)),\n",
    "            visual_bias_regulization * tf.reduce_sum(tf.multiply(visual_bias, visual_bias))\n",
    "        ])\n",
    "        \n",
    "    \n",
    "    \n",
    "    else:\n",
    "        xui = i_b + tf.reduce_sum(tf.multiply(u_emb, i_emb), 1, keep_dims=True)\n",
    "        xuj = j_b + tf.reduce_sum(tf.multiply(u_emb, j_emb), 1, keep_dims=True) \n",
    "        l2_norm = tf.add_n([\n",
    "            l2_regulization * tf.reduce_sum(tf.multiply(u_emb, u_emb)),\n",
    "            l2_regulization * tf.reduce_sum(tf.multiply(i_emb, i_emb)),\n",
    "            l2_regulization * tf.reduce_sum(tf.multiply(j_emb, j_emb)),\n",
    "            bias_regulization * tf.reduce_sum(tf.multiply(i_b, i_b)),\n",
    "            bias_regulization * tf.reduce_sum(tf.multiply(j_b, j_b))\n",
    "        ])\n",
    "    \n",
    "    xuij = xui - xuj\n",
    "\n",
    "    auc = tf.reduce_mean(tf.to_float(xuij > 0))\n",
    "    \n",
    "    loss = l2_norm - tf.reduce_mean(tf.log(tf.sigmoid(xuij)))\n",
    "    \n",
    "    train_op = tf.train.AdamOptimizer().minimize(loss)\n",
    "    \n",
    "    \n",
    "    return u, i, j, iv, jv, loss, auc, train_op"
   ]
  },
  {
   "cell_type": "markdown",
   "metadata": {},
   "source": [
    "## Procedure to run the end-to-end model (from loading data to training the model and to test the model)"
   ]
  },
  {
   "cell_type": "code",
   "execution_count": 10,
   "metadata": {
    "collapsed": true
   },
   "outputs": [],
   "source": [
    "def session_run(num_iter, bpr_extension, advanced_features):\n",
    "    ### Loading and parsing the review matrix for Women 5-core dataset\n",
    "    auc_train = []\n",
    "    auc_test = []\n",
    "    auc_test_cs = []\n",
    "    data_path = os.path.join('', 'reviews_Women_scraped_cpp_fv.csv')\n",
    "    user_count, item_count, users, items, user_ratings, item_ratings, brands, prices, prod_desc = load_data_hybrid(data_path, min_items=4, min_users=0, sampling= True, sample_size = 0.8)\n",
    "    user_ratings_test = generate_test(user_ratings)\n",
    "    with tf.Graph().as_default(), tf.Session() as session:\n",
    "        with tf.variable_scope('abpr'):\n",
    "            u, i, j, iv, jv, loss, auc, train_op = abpr(user_count, item_count, advanced_features, bpr_extension=bpr_extension)\n",
    "\n",
    "        session.run(tf.global_variables_initializer())\n",
    "        \n",
    "\n",
    "        for epoch in range(1, num_iter+1):\n",
    "            print (\"epoch \", epoch)\n",
    "            _loss_train = 0.0\n",
    "            user_count = 0\n",
    "            auc_train_values = []\n",
    "            for d, _iv, _jv in uniform_sample_batch(user_ratings, user_ratings_test, item_count, advanced_features):\n",
    "                user_count += 1\n",
    "                _loss, _auc, _ = session.run([loss, auc, train_op], feed_dict={u:d[:,0], i:d[:,1], j:d[:,2], iv:_iv, jv:_jv})\n",
    "                _loss_train += _loss\n",
    "                auc_train_values.append(_auc)\n",
    "            print (\"train_loss:\", _loss_train/user_count, \"train auc: \", numpy.mean(auc_train_values))\n",
    "            auc_train.append(numpy.mean(auc_train_values))\n",
    "\n",
    "\n",
    "            auc_values = []\n",
    "            _loss_test = 0.0\n",
    "            user_count = 0\n",
    "            for d, _iv, _jv in test_batch_generator_by_user(user_ratings, user_ratings_test, item_ratings, item_count, advanced_features, cold_start = False):\n",
    "                user_count += 1\n",
    "                _loss, _auc = session.run([loss, auc], feed_dict={u: d[:, 0], i: d[:, 1], j: d[:, 2], iv: _iv, jv: _jv})\n",
    "                _loss_test += _loss\n",
    "                auc_values.append(_auc)\n",
    "            print (\"test_loss: \", _loss_test / user_count, \"test auc: \", numpy.mean(auc_values))\n",
    "            auc_test.append(numpy.mean(auc_values))\n",
    "\n",
    "            auc_values_cs = []\n",
    "            _loss_test_cs = 0.0\n",
    "            user_count = 0\n",
    "            for d, _iv, _jv in test_batch_generator_by_user(user_ratings, user_ratings_test, item_ratings, item_count, advanced_features, cold_start = True, cold_start_thresh = 10):\n",
    "                user_count += 1\n",
    "                _loss, _auc = session.run([loss, auc], feed_dict={u: d[:, 0], i: d[:, 1], j: d[:, 2], iv: _iv, jv: _jv})\n",
    "                _loss_test_cs += _loss\n",
    "                auc_values_cs.append(_auc)\n",
    "            print (\"cold start test_loss: \", _loss_test_cs / user_count, \"cold start auc: \", numpy.mean(auc_values_cs))\n",
    "            auc_test_cs.append(numpy.mean(auc_values_cs))\n",
    "        return auc_train, auc_test, auc_test_cs"
   ]
  },
  {
   "cell_type": "markdown",
   "metadata": {},
   "source": [
    "## Loading the image related feature"
   ]
  },
  {
   "cell_type": "code",
   "execution_count": 11,
   "metadata": {
    "collapsed": true
   },
   "outputs": [],
   "source": [
    "# Uncomment the lines below to LOAD IMAGE features. It will take some time.\n",
    "# images_path = \"image_features_Women.b\"\n",
    "# f = load_image_features(images_path, items)"
   ]
  },
  {
   "cell_type": "markdown",
   "metadata": {},
   "source": [
    "## Running the base VBPR model with image features ONLY but no advanced features"
   ]
  },
  {
   "cell_type": "code",
   "execution_count": null,
   "metadata": {
    "collapsed": true
   },
   "outputs": [],
   "source": [
    "#Uncomment the line below once you have already loaded the image images in f\n",
    "#vbpr_auc_train, vbpr_auc_test, vbpr_auc_test_cold_start = session_run(5, True, f)"
   ]
  },
  {
   "cell_type": "markdown",
   "metadata": {},
   "source": [
    "## Running BASELINE BPR with no advanced features at all"
   ]
  },
  {
   "cell_type": "code",
   "execution_count": 21,
   "metadata": {
    "scrolled": true
   },
   "outputs": [
    {
     "name": "stdout",
     "output_type": "stream",
     "text": [
      "max_u_id:  34497\n",
      "max_i_id:  14764\n",
      "reviews :  144992\n",
      "u_id:  12349\n",
      "i_id:  14764\n",
      "reviews :  84394\n",
      "epoch  1\n",
      "train_loss: 0.772080428215 train auc:  0.622693\n",
      "test_loss:  1.52152486497 test auc:  0.646326\n",
      "cold start test_loss:  1.57857536205 cold start auc:  0.397217\n",
      "epoch  2\n",
      "train_loss: 0.682312924941 train auc:  0.689413\n",
      "test_loss:  1.23655386198 test auc:  0.65241\n",
      "cold start test_loss:  1.24502341152 cold start auc:  0.382972\n"
     ]
    }
   ],
   "source": [
    "#Note: bpr_extension is True only when you are passing image features, else always false\n",
    "\n",
    "dummy_adv_features= {n: [0] for n in range(1,item_count+1)} # creating dummy array with zero for NO advanced features\n",
    "bpr_auc_train, bpr_auc_test, bpr_auc_test_cold_start = session_run(5, False, dummy_adv_features)"
   ]
  },
  {
   "cell_type": "markdown",
   "metadata": {},
   "source": [
    "## Generating the price related feature and running the advanced BPR model with price features only"
   ]
  },
  {
   "cell_type": "code",
   "execution_count": 17,
   "metadata": {
    "scrolled": true
   },
   "outputs": [
    {
     "name": "stdout",
     "output_type": "stream",
     "text": [
      "max_u_id:  34497\n",
      "max_i_id:  14764\n",
      "reviews :  144992\n",
      "u_id:  12349\n",
      "i_id:  14764\n",
      "reviews :  84394\n",
      "epoch  1\n",
      "train_loss: 0.772155579859 train auc:  0.624427\n",
      "test_loss:  1.51875085229 test auc:  0.647326\n",
      "cold start test_loss:  1.58655240667 cold start auc:  0.399437\n",
      "epoch  2\n",
      "train_loss: 0.682612460809 train auc:  0.688782\n",
      "test_loss:  1.23439911182 test auc:  0.652415\n",
      "cold start test_loss:  1.24013838608 cold start auc:  0.383551\n",
      "epoch  3\n",
      "train_loss: 0.645034633056 train auc:  0.707472\n",
      "test_loss:  1.15654668385 test auc:  0.653579\n",
      "cold start test_loss:  1.12957013679 cold start auc:  0.383457\n",
      "epoch  4\n",
      "train_loss: 0.623630278141 train auc:  0.715868\n",
      "test_loss:  1.15631887178 test auc:  0.651679\n",
      "cold start test_loss:  1.12639066083 cold start auc:  0.363224\n",
      "epoch  5\n",
      "train_loss: 0.611485291528 train auc:  0.717593\n",
      "test_loss:  1.19011301042 test auc:  0.658615\n",
      "cold start test_loss:  1.16516384318 cold start auc:  0.368682\n"
     ]
    }
   ],
   "source": [
    "#user_count, item_count, users, items, user_ratings, item_ratings, brands, prices, prod_desc = load_data_hybrid(data_path, min_items=4, min_users=0, sampling= True, sample_size = 0.8)\n",
    "prices_features= {}\n",
    "prices_all = list(set(prices.values()))\n",
    "price_quant_level = 10\n",
    "price_max = float(max(prices.values()))\n",
    "for key, value in prices.items():\n",
    "    prices_vec = numpy.zeros(price_quant_level+1)\n",
    "    idx = int(numpy.ceil(float(value)/(price_max/price_quant_level)))\n",
    "    prices_vec[idx]=1\n",
    "    prices_features[key] = prices_vec\n",
    "\n",
    "\n",
    "pbpr_auc_train, pbpr_auc_test, pbpr_auc_test_cold_start = session_run(5, False, prices_features)"
   ]
  },
  {
   "cell_type": "markdown",
   "metadata": {},
   "source": [
    "## Generating the brand related feature and running the advanced BPR model with brand features only"
   ]
  },
  {
   "cell_type": "code",
   "execution_count": 18,
   "metadata": {
    "scrolled": true
   },
   "outputs": [
    {
     "name": "stdout",
     "output_type": "stream",
     "text": [
      "max_u_id:  34497\n",
      "max_i_id:  14764\n",
      "reviews :  144992\n",
      "u_id:  12349\n",
      "i_id:  14764\n",
      "reviews :  84394\n",
      "epoch  1\n",
      "train_loss: 0.772099878933 train auc:  0.623456\n",
      "test_loss:  1.51649618053 test auc:  0.646291\n",
      "cold start test_loss:  1.56894308648 cold start auc:  0.395977\n",
      "epoch  2\n",
      "train_loss: 0.682578504308 train auc:  0.689407\n",
      "test_loss:  1.2283950308 test auc:  0.652578\n",
      "cold start test_loss:  1.22937396557 cold start auc:  0.383103\n"
     ]
    }
   ],
   "source": [
    "brands_features = {}\n",
    "brands_all = list(set(brands.values()))\n",
    "for key, value in brands.items():\n",
    "    brands_vec = numpy.zeros(len(brands_all))\n",
    "    brands_vec[brands_all.index(value)] = 1\n",
    "    brands_features[key] = brands_vec\n",
    "bbpr_auc_train, bbpr_auc_test, bbpr_auc_test_cold_start = session_run(5, False, brands_features)"
   ]
  },
  {
   "cell_type": "markdown",
   "metadata": {},
   "source": [
    "## Generating the product description related feature and running the advanced BPR model with product description generated features only"
   ]
  },
  {
   "cell_type": "code",
   "execution_count": 19,
   "metadata": {
    "scrolled": true
   },
   "outputs": [
    {
     "name": "stdout",
     "output_type": "stream",
     "text": [
      "max_u_id:  34497\n",
      "max_i_id:  14764\n",
      "reviews :  144992\n",
      "u_id:  12349\n",
      "i_id:  14764\n",
      "reviews :  84394\n",
      "epoch  1\n",
      "train_loss: 0.772135150108 train auc:  0.624622\n",
      "test_loss:  1.52538847555 test auc:  0.646207\n",
      "cold start test_loss:  1.57766490224 cold start auc:  0.396091\n",
      "epoch  2\n",
      "train_loss: 0.68261157445 train auc:  0.689998\n",
      "test_loss:  1.23608737388 test auc:  0.65244\n",
      "cold start test_loss:  1.24401485626 cold start auc:  0.382935\n"
     ]
    }
   ],
   "source": [
    "d = prod_desc\n",
    "pdbpr_auc_train, pdbpr_auc_test, pdbpr_auc_test_cold_start = session_run(5, False, prod_desc)"
   ]
  },
  {
   "cell_type": "markdown",
   "metadata": {},
   "source": [
    "## Running the advanced BPR model with the hybrid of all non-visual features:  price+brand+product description features (NVBPR)"
   ]
  },
  {
   "cell_type": "code",
   "execution_count": 52,
   "metadata": {
    "scrolled": true
   },
   "outputs": [
    {
     "name": "stdout",
     "output_type": "stream",
     "text": [
      "max_u_id:  34502\n",
      "max_i_id:  14779\n",
      "reviews :  144992\n",
      "u_id:  12373\n",
      "i_id:  14779\n",
      "reviews :  84556\n",
      "epoch  1\n",
      "train_loss: 0.83397676466 train auc:  0.622576\n",
      "test_loss:  2.22193963921 test auc:  0.604957\n",
      "cold start test_loss:  2.33043541687 cold start auc:  0.452484\n",
      "epoch  2\n",
      "train_loss: 0.710886764481 train auc:  0.711418\n",
      "test_loss:  1.82348409002 test auc:  0.645431\n",
      "cold start test_loss:  1.85779562236 cold start auc:  0.424151\n",
      "epoch  3\n",
      "train_loss: 0.639795182133 train auc:  0.760532\n",
      "test_loss:  1.74163559884 test auc:  0.652937\n",
      "cold start test_loss:  1.74590533734 cold start auc:  0.449618\n",
      "epoch  4\n",
      "train_loss: 0.576318179312 train auc:  0.798491\n",
      "test_loss:  1.79236164476 test auc:  0.672374\n",
      "cold start test_loss:  1.81105523367 cold start auc:  0.48998\n",
      "epoch  5\n",
      "train_loss: 0.519506688895 train auc:  0.826072\n",
      "test_loss:  1.91901169142 test auc:  0.682017\n",
      "cold start test_loss:  1.93822872405 cold start auc:  0.50498\n",
      "epoch  6\n",
      "train_loss: 0.473635795914 train auc:  0.84911\n",
      "test_loss:  2.01707543823 test auc:  0.688914\n",
      "cold start test_loss:  2.06613169253 cold start auc:  0.529564\n",
      "epoch  7\n",
      "train_loss: 0.440570210668 train auc:  0.862515\n",
      "test_loss:  2.126228939 test auc:  0.692339\n",
      "cold start test_loss:  2.19050437603 cold start auc:  0.549065\n",
      "epoch  8\n",
      "train_loss: 0.416174966337 train auc:  0.874393\n",
      "test_loss:  2.19795107463 test auc:  0.696119\n",
      "cold start test_loss:  2.28513009318 cold start auc:  0.572975\n",
      "epoch  9\n",
      "train_loss: 0.394847160668 train auc:  0.883882\n",
      "test_loss:  2.24508696081 test auc:  0.701196\n",
      "cold start test_loss:  2.37945238778 cold start auc:  0.571661\n",
      "epoch  10\n",
      "train_loss: 0.381329290153 train auc:  0.889326\n",
      "test_loss:  2.28354868215 test auc:  0.697615\n",
      "cold start test_loss:  2.43178129655 cold start auc:  0.572633\n",
      "epoch  11\n",
      "train_loss: 0.366973654825 train auc:  0.89586\n",
      "test_loss:  2.31643079013 test auc:  0.694668\n",
      "cold start test_loss:  2.41005835421 cold start auc:  0.597973\n",
      "epoch  12\n",
      "train_loss: 0.357296112632 train auc:  0.900439\n",
      "test_loss:  2.316346962 test auc:  0.706308\n",
      "cold start test_loss:  2.44823059353 cold start auc:  0.605512\n",
      "epoch  13\n",
      "train_loss: 0.346122655697 train auc:  0.904596\n",
      "test_loss:  2.33133046082 test auc:  0.700032\n",
      "cold start test_loss:  2.45614079563 cold start auc:  0.610245\n",
      "epoch  14\n",
      "train_loss: 0.338229382038 train auc:  0.907193\n",
      "test_loss:  2.30247477514 test auc:  0.707062\n",
      "cold start test_loss:  2.4527010665 cold start auc:  0.615064\n",
      "epoch  15\n",
      "train_loss: 0.333342450651 train auc:  0.908218\n",
      "test_loss:  2.31758799887 test auc:  0.697459\n",
      "cold start test_loss:  2.44449408872 cold start auc:  0.610716\n",
      "epoch  16\n",
      "train_loss: 0.326940171925 train auc:  0.909823\n",
      "test_loss:  2.29276039663 test auc:  0.701391\n",
      "cold start test_loss:  2.4413215001 cold start auc:  0.617111\n",
      "epoch  17\n",
      "train_loss: 0.321469591711 train auc:  0.911395\n",
      "test_loss:  2.28424881859 test auc:  0.706169\n",
      "cold start test_loss:  2.45155977133 cold start auc:  0.616776\n",
      "epoch  18\n",
      "train_loss: 0.317456397493 train auc:  0.912998\n",
      "test_loss:  2.29351247275 test auc:  0.700211\n",
      "cold start test_loss:  2.41766861733 cold start auc:  0.626929\n",
      "epoch  19\n",
      "train_loss: 0.311267913443 train auc:  0.916611\n",
      "test_loss:  2.2671799234 test auc:  0.70685\n",
      "cold start test_loss:  2.42171019048 cold start auc:  0.633143\n",
      "epoch  20\n",
      "train_loss: 0.30828365987 train auc:  0.914922\n",
      "test_loss:  2.2353721038 test auc:  0.710456\n",
      "cold start test_loss:  2.38930951095 cold start auc:  0.632687\n"
     ]
    }
   ],
   "source": [
    "a = prices_features\n",
    "b = brands_features\n",
    "c = dict([(k, numpy.append(a[k],b[k])) for k in set(b) & set(a)])\n",
    "d= prod_desc\n",
    "e = dict([(k, numpy.append(c[k],d[k])) for k in set(c) & set(d)])\n",
    "\n",
    "hybrid_non_visual_features = e\n",
    "nvbpr_auc_train, nvbpr_auc_test, nvbpr_auc_test_cold_start = session_run(5, False, hybrid_non_visual_features)"
   ]
  },
  {
   "cell_type": "markdown",
   "metadata": {},
   "source": [
    "## Running the base advanced BPR model with the hybrid of all visual and non-visual features: image+price+brand+product description features (HBPR)"
   ]
  },
  {
   "cell_type": "code",
   "execution_count": 53,
   "metadata": {
    "scrolled": true
   },
   "outputs": [
    {
     "name": "stdout",
     "output_type": "stream",
     "text": [
      "max_u_id:  34502\n",
      "max_i_id:  14779\n",
      "reviews :  144992\n",
      "u_id:  12373\n",
      "i_id:  14779\n",
      "reviews :  84556\n",
      "epoch  1\n",
      "train_loss: 0.829893482303 train auc:  0.619778\n",
      "test_loss:  2.33956347852 test auc:  0.569678\n",
      "cold start test_loss:  2.43441153348 cold start auc:  0.490776\n",
      "epoch  2\n",
      "train_loss: 0.698156786005 train auc:  0.704174\n",
      "test_loss:  1.99335180886 test auc:  0.612473\n",
      "cold start test_loss:  2.03011705907 cold start auc:  0.475689\n",
      "epoch  3\n",
      "train_loss: 0.610190412864 train auc:  0.763694\n",
      "test_loss:  1.91133403422 test auc:  0.643724\n",
      "cold start test_loss:  1.9417069061 cold start auc:  0.529449\n",
      "epoch  4\n",
      "train_loss: 0.529283218722 train auc:  0.807396\n",
      "test_loss:  1.92709438539 test auc:  0.677772\n",
      "cold start test_loss:  1.95432954565 cold start auc:  0.563544\n",
      "epoch  5\n",
      "train_loss: 0.468332351518 train auc:  0.836723\n",
      "test_loss:  1.98867381583 test auc:  0.698338\n",
      "cold start test_loss:  2.05932136993 cold start auc:  0.577253\n",
      "epoch  6\n",
      "train_loss: 0.423339424614 train auc:  0.858576\n",
      "test_loss:  2.01198713336 test auc:  0.712614\n",
      "cold start test_loss:  2.08656726117 cold start auc:  0.604001\n",
      "epoch  7\n",
      "train_loss: 0.391119925752 train auc:  0.873222\n",
      "test_loss:  2.07521461041 test auc:  0.713274\n",
      "cold start test_loss:  2.17659895713 cold start auc:  0.606775\n",
      "epoch  8\n",
      "train_loss: 0.36448158014 train auc:  0.887179\n",
      "test_loss:  2.10211738438 test auc:  0.713368\n",
      "cold start test_loss:  2.19300658052 cold start auc:  0.634654\n",
      "epoch  9\n",
      "train_loss: 0.346180694226 train auc:  0.894628\n",
      "test_loss:  2.11637612787 test auc:  0.722852\n",
      "cold start test_loss:  2.24212158885 cold start auc:  0.62983\n",
      "epoch  10\n",
      "train_loss: 0.325715505902 train auc:  0.904154\n",
      "test_loss:  2.10604626337 test auc:  0.726264\n",
      "cold start test_loss:  2.21537662459 cold start auc:  0.649031\n",
      "epoch  11\n",
      "train_loss: 0.317042112802 train auc:  0.905842\n",
      "test_loss:  2.13180550333 test auc:  0.718934\n",
      "cold start test_loss:  2.20899537651 cold start auc:  0.65767\n",
      "epoch  12\n",
      "train_loss: 0.306950139149 train auc:  0.910354\n",
      "test_loss:  2.10094269388 test auc:  0.72983\n",
      "cold start test_loss:  2.18587061339 cold start auc:  0.664678\n",
      "epoch  13\n",
      "train_loss: 0.300836113497 train auc:  0.912985\n",
      "test_loss:  2.11897465226 test auc:  0.719622\n",
      "cold start test_loss:  2.2279492625 cold start auc:  0.655649\n",
      "epoch  14\n",
      "train_loss: 0.291611238075 train auc:  0.91656\n",
      "test_loss:  2.07720089883 test auc:  0.728708\n",
      "cold start test_loss:  2.22616332646 cold start auc:  0.656486\n",
      "epoch  15\n",
      "train_loss: 0.285729438744 train auc:  0.918311\n",
      "test_loss:  2.1026226003 test auc:  0.718718\n",
      "cold start test_loss:  2.22058438674 cold start auc:  0.662704\n",
      "epoch  16\n",
      "train_loss: 0.279663205251 train auc:  0.919489\n",
      "test_loss:  2.0900232525 test auc:  0.717654\n",
      "cold start test_loss:  2.21271761963 cold start auc:  0.658881\n",
      "epoch  17\n",
      "train_loss: 0.275443080488 train auc:  0.922171\n",
      "test_loss:  2.06801556712 test auc:  0.722215\n",
      "cold start test_loss:  2.20318794309 cold start auc:  0.663844\n",
      "epoch  18\n",
      "train_loss: 0.274797516407 train auc:  0.920633\n",
      "test_loss:  2.06136039773 test auc:  0.721764\n",
      "cold start test_loss:  2.16748625722 cold start auc:  0.67168\n",
      "epoch  19\n",
      "train_loss: 0.267424475459 train auc:  0.923157\n",
      "test_loss:  2.01533820221 test auc:  0.729359\n",
      "cold start test_loss:  2.17595162087 cold start auc:  0.667085\n",
      "epoch  20\n",
      "train_loss: 0.266154963257 train auc:  0.923375\n",
      "test_loss:  1.99704607107 test auc:  0.734109\n",
      "cold start test_loss:  2.11993383997 cold start auc:  0.679747\n"
     ]
    }
   ],
   "source": [
    "# uncomment the lines below once you have image features loaded\n",
    "# hybrid_all_features = dict([(k, numpy.append(e[k],f[k])) for k in set(e) & set(f)])\n",
    "# hbpr_auc_train, hbpr_auc_test, hbpr_auc_test_cold_start = session_run(5, True, hybrid_all_features)"
   ]
  },
  {
   "cell_type": "markdown",
   "metadata": {},
   "source": [
    "## comparing Test AUC vs. number of iterations for different models"
   ]
  },
  {
   "cell_type": "code",
   "execution_count": 22,
   "metadata": {},
   "outputs": [
    {
     "data": {
      "text/plain": [
       "Text(0.5,0,'Number of Iterations')"
      ]
     },
     "execution_count": 22,
     "metadata": {},
     "output_type": "execute_result"
    },
    {
     "data": {
      "image/png": "[encoded data removed]",
      "text/plain": [
       "<matplotlib.figure.Figure at 0x183619f588>"
      ]
     },
     "metadata": {},
     "output_type": "display_data"
    }
   ],
   "source": [
    "plt.figure(figsize=(20,10))\n",
    "plt.plot(bpr_auc_test, label = \"BPR\")\n",
    "plt.plot(pbpr_auc_test, label = \"Price-BPR\")\n",
    "plt.plot(bbpr_auc_test, label = \"Brand-BPR\")\n",
    "plt.plot(pdbpr_auc_test, label = \"Product Description-BPR\")\n",
    "# plt.plot(nvbpr_auc_test, label = \"NonVisual-BPR\")\n",
    "# plt.plot(vbpr_auc_test, label = \"Visual-BPR\")\n",
    "# plt.plot(hbpr_auc_test, label = \"Hybrid-BPR\")\n",
    "plt.legend()\n",
    "plt.ylabel(\"Test AUC\")\n",
    "plt.xlabel(\"Number of Iterations\")"
   ]
  },
  {
   "cell_type": "markdown",
   "metadata": {},
   "source": [
    "## comparing Cold Start Test AUC vs. number of iterations for different models"
   ]
  },
  {
   "cell_type": "code",
   "execution_count": 23,
   "metadata": {},
   "outputs": [
    {
     "data": {
      "text/plain": [
       "Text(0.5,0,'Number of Iterations')"
      ]
     },
     "execution_count": 23,
     "metadata": {},
     "output_type": "execute_result"
    },
    {
     "data": {
      "image/png": "[encoded data removed]",
      "text/plain": [
       "<matplotlib.figure.Figure at 0x18361da278>"
      ]
     },
     "metadata": {},
     "output_type": "display_data"
    }
   ],
   "source": [
    "plt.figure(figsize=(20,10))\n",
    "plt.plot(bpr_auc_test_cold_start, label = \"BPR\")\n",
    "plt.plot(pbpr_auc_test_cold_start, label = \"Price-BPR\")\n",
    "plt.plot(bbpr_auc_test_cold_start, label = \"Brand-BPR\")\n",
    "plt.plot(pdbpr_auc_test_cold_start, label = \"Product Description-BPR\")\n",
    "# plt.plot(nvbpr_auc_test_cold_start, label = \"NonVisual-BPR\")\n",
    "# plt.plot(vbpr_auc_test_cold_start, label = \"Visual-BPR\")\n",
    "# plt.plot(hbpr_auc_test_cold_start, label = \"Hybrid-BPR\")\n",
    "plt.legend()\n",
    "plt.ylabel(\"Cold Start Test AUC\")\n",
    "plt.xlabel(\"Number of Iterations\")"
   ]
  },
  {
   "cell_type": "markdown",
   "metadata": {},
   "source": [
    "## Writing the results to a CSV file"
   ]
  },
  {
   "cell_type": "code",
   "execution_count": 70,
   "metadata": {
    "collapsed": true
   },
   "outputs": [],
   "source": [
    "import csv\n",
    "rows = zip(bpr_auc_test, pbpr_auc_test, bbpr_auc_test, pdbpr_auc_test, nvbpr_auc_test, vbpr_auc_test, \n",
    "           hbpr_auc_test, bpr_auc_test_cold_start, pbpr_auc_test_cold_start, bbpr_auc_test_cold_start,\n",
    "          pdbpr_auc_test_cold_start, nvbpr_auc_test_cold_start, vbpr_auc_test_cold_start, hbpr_auc_test_cold_start)\n",
    "\n",
    "with open(\"AUC_5core_Women.csv\", \"wb\") as f:\n",
    "    writer = csv.writer(f)\n",
    "    writer.writerow([\"bpr_auc_test\", \"pbpr_auc_test\", \"bbpr_auc_test\", \"pdbpr_auc_test\", \"nvbpr_auc_test\", \n",
    "                     \"vbpr_auc_test\", \"hbpr_auc_test\", \"bpr_auc_test_cold_start\", \"pbpr_auc_test_cold_start\",\n",
    "                    \"bbpr_auc_test_cold_start\", \"pdbpr_auc_test_cold_start\", \"nvbpr_auc_test_cold_start\",\n",
    "                    \"vbpr_auc_test_cold_start\", \"hbpr_auc_test_cold_start\"])\n",
    "    for row in rows:\n",
    "        writer.writerow(row)"
   ]
  }
 ],
 "metadata": {
  "kernelspec": {
   "display_name": "Python 3",
   "language": "python",
   "name": "python3"
  },
  "language_info": {
   "codemirror_mode": {
    "name": "ipython",
    "version": 3
   },
   "file_extension": ".py",
   "mimetype": "text/x-python",
   "name": "python",
   "nbconvert_exporter": "python",
   "pygments_lexer": "ipython3",
   "version": "3.6.3"
  }
 },
 "nbformat": 4,
 "nbformat_minor": 2
}
